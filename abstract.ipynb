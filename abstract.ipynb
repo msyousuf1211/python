{
 "cells": [
  {
   "cell_type": "code",
   "execution_count": 1,
   "metadata": {},
   "outputs": [
    {
     "name": "stdout",
     "output_type": "stream",
     "text": [
      "1234\n",
      "employee_id is 1234\n"
     ]
    }
   ],
   "source": [
    "# abstarct class withpout super\n",
    "from abc import ABC , abstractmethod\n",
    "class employee(ABC):\n",
    "    @abstractmethod\n",
    "    def emp_id(self):\n",
    "        print(\"hello\")\n",
    "        pass   \n",
    "class child(employee):\n",
    "    def emp_id(self,id):\n",
    "        self.id=id\n",
    "        print(self.id)\n",
    "        print(\"employee_id is 1234\")\n",
    "emp1=child( )\n",
    "emp1.emp_id(1234)"
   ]
  },
  {
   "cell_type": "code",
   "execution_count": 2,
   "metadata": {},
   "outputs": [
    {
     "name": "stdout",
     "output_type": "stream",
     "text": [
      "hello\n",
      "1234\n",
      "employee_id is 1234\n"
     ]
    }
   ],
   "source": [
    "\n",
    "from abc import ABC , abstractmethod\n",
    "class employee(ABC):\n",
    "    @abstractmethod\n",
    "    def emp_id(self):\n",
    "        print(\"hello\")\n",
    "        pass   \n",
    "class child(employee):\n",
    "    def emp_id(self,id):\n",
    "        super().emp_id()\n",
    "        self.id=id\n",
    "        print(self.id)\n",
    "        print(\"employee_id is 1234\")\n",
    "emp1=child( )\n",
    "emp1.emp_id(1234)\n",
    "\n",
    "\n"
   ]
  },
  {
   "cell_type": "code",
   "execution_count": 3,
   "metadata": {},
   "outputs": [
    {
     "name": "stdout",
     "output_type": "stream",
     "text": [
      "Rectangle Area: 50\n",
      "Rectangle Perimeter: 30\n",
      "Circle Area: 153.86\n",
      "Circle Perimeter: 43.96\n",
      "Triangle Area: 12.0\n",
      "Triangle Perimeter: 12\n"
     ]
    }
   ],
   "source": [
    "#abstraction\n",
    "\n",
    "from abc import ABC, abstractmethod\n",
    "class Shape(ABC):\n",
    "    @abstractmethod\n",
    "    def area(self):\n",
    "        pass\n",
    "\n",
    "    @abstractmethod\n",
    "    def perimeter(self):\n",
    "        pass\n",
    "class Rectangle(Shape):\n",
    "    def __init__(self, length, width):\n",
    "        self.length = length\n",
    "        self.width = width\n",
    "    def area(self):\n",
    "        return self.length * self.width\n",
    "    def perimeter(self):\n",
    "        return 2 * (self.length + self.width)\n",
    "class Circle(Shape):\n",
    "    def __init__(self, radius):\n",
    "        self.radius = radius\n",
    "    def area(self):\n",
    "        return 3.14 * self.radius ** 2\n",
    "    def perimeter(self):\n",
    "        return 2 * 3.14 * self.radius\n",
    "class Triangle(Shape):\n",
    "    def __init__(self, base, height):\n",
    "        self.base = base\n",
    "        self.height = height\n",
    "    def area(self):\n",
    "        return 0.5 * self.base * self.height   \n",
    "    def perimeter(self):\n",
    "        return self.base * 3\n",
    "# Create instances of the shapes\n",
    "rectangle = Rectangle(5, 10)\n",
    "circle = Circle(7)\n",
    "triangle = Triangle(4, 6)\n",
    "# Calculate and print areas and perimeters\n",
    "print(\"Rectangle Area:\", rectangle.area())\n",
    "print(\"Rectangle Perimeter:\", rectangle.perimeter())\n",
    "print(\"Circle Area:\", circle.area())\n",
    "print(\"Circle Perimeter:\", circle.perimeter())\n",
    "print(\"Triangle Area:\", triangle.area())\n",
    "print(\"Triangle Perimeter:\", triangle.perimeter())\n"
   ]
  }
 ],
 "metadata": {
  "kernelspec": {
   "display_name": "Python 3",
   "language": "python",
   "name": "python3"
  },
  "language_info": {
   "codemirror_mode": {
    "name": "ipython",
    "version": 3
   },
   "file_extension": ".py",
   "mimetype": "text/x-python",
   "name": "python",
   "nbconvert_exporter": "python",
   "pygments_lexer": "ipython3",
   "version": "3.11.4"
  }
 },
 "nbformat": 4,
 "nbformat_minor": 2
}
