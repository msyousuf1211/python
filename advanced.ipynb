{
 "cells": [
  {
   "cell_type": "code",
   "execution_count": 2,
   "metadata": {},
   "outputs": [
    {
     "name": "stdout",
     "output_type": "stream",
     "text": [
      "[3, 4, 5, 6, 7]\n"
     ]
    }
   ],
   "source": [
    "#print uniqe values\n",
    "t=[3,4,5,6,7,5,4,6,7]\n",
    "uniqe=list(set(t))\n",
    "print(uniqe)\n"
   ]
  },
  {
   "cell_type": "code",
   "execution_count": 1,
   "metadata": {},
   "outputs": [
    {
     "name": "stdout",
     "output_type": "stream",
     "text": [
      "[3, 4, 5, 6, 7, 8, 8] "
     ]
    }
   ],
   "source": [
    "# number -1 print\n",
    "lt = [4, 5, 6, 7, 8, 9, 9]\n",
    "\n",
    "# Define a function to subtract 1 from a number\n",
    "def lit(x):\n",
    "    return x - 1\n",
    "    #print( x - 1) if we add this line then no need for return value \n",
    "\n",
    "# Create a new list where each element is one less than the corresponding element in the original list using map\n",
    "r = list(map(lit, lt)) # we cant add both function and lambda ta a time\n",
    "\n",
    "# Print the resulting list\n",
    "print(r,end=\" \")\n",
    "\n",
    "# Alternative approach using list comprehension\n",
    "# no = [4, 5, 6, 7, 6, 7, 8]\n",
    "# r = [x - 1 for x in no]\n",
    "# print(r)"
   ]
  },
  {
   "cell_type": "code",
   "execution_count": 4,
   "metadata": {},
   "outputs": [
    {
     "name": "stdout",
     "output_type": "stream",
     "text": [
      "[3, 4, 5, 6, 7, 8, 8]\n"
     ]
    }
   ],
   "source": [
    "# Example list\n",
    "n = [4, 5, 6, 7, 8, 9, 9]\n",
    "\n",
    "# Read input from the user and convert it to a list of integers\n",
    "r = list(map(lambda f:f-1,n))\n",
    "\n",
    "# Print the resulting list\n",
    "print(r)"
   ]
  },
  {
   "cell_type": "code",
   "execution_count": 8,
   "metadata": {},
   "outputs": [
    {
     "name": "stdout",
     "output_type": "stream",
     "text": [
      "[1, 3, 5, 7, 9, 11, 13, 15, 17, 19, 21, 23, 25, 27, 29, 31, 33, 35, 37, 39, 41, 43, 45, 47, 49, 51, 53, 55, 57, 59, 61, 63, 65, 67, 69, 71, 73, 75, 77, 79, 81, 83, 85, 87, 89, 91, 93, 95, 97, 99]\n"
     ]
    }
   ],
   "source": [
    "#printing odd numbers\n",
    "#od=101\n",
    "#for i in range(od):\n",
    " #   if i%2 != 0:\n",
    "  #      print(i)\n",
    "od =[ (i) for i in range (100) if i %2 != 0]\n",
    "print(od)\n"
   ]
  },
  {
   "cell_type": "code",
   "execution_count": 9,
   "metadata": {},
   "outputs": [
    {
     "name": "stdout",
     "output_type": "stream",
     "text": [
      "Prime numbers from 1 to 60 are: [2, 3, 5, 7, 11, 13, 17, 19, 23, 29, 31, 37, 41, 43, 47, 53, 59]\n"
     ]
    }
   ],
   "source": [
    "# Function to check if a number is prime\n",
    "def is_prime(x):\n",
    "    if x <= 1:\n",
    "        return False\n",
    "    for i in range(2, int(x/2) + 1):\n",
    "        if x % i == 0:\n",
    "            return False\n",
    "    return True\n",
    "n = int(input(\"Enter the value of n: \"))\n",
    "\n",
    "# Use list comprehension to find prime numbers from 1 to n\n",
    "prime_numbers = [i for i in range(1, n + 1) if is_prime(i)]\n",
    "\n",
    "print(\"Prime numbers from 1 to\", n, \"are:\", prime_numbers)"
   ]
  },
  {
   "cell_type": "code",
   "execution_count": 14,
   "metadata": {},
   "outputs": [
    {
     "name": "stdout",
     "output_type": "stream",
     "text": [
      "70 is not a prime number.\n"
     ]
    }
   ],
   "source": [
    "# Function to check if a number is prime\n",
    "def is_prime(x):\n",
    "    if x <= 1:\n",
    "        return False\n",
    "    for i in range(2, int(x/2) + 1):\n",
    "        if x % i == 0:\n",
    "            return False\n",
    "    return True\n",
    "\n",
    "# Input: Read the value of x from the user\n",
    "x = int(input(\"Enter a number to check if it is prime: \"))\n",
    "\n",
    "# Check if the number is prime and print the result\n",
    "if is_prime(x):\n",
    "    print(f\"{x} is a prime number.\")\n",
    "else:\n",
    "    print(f\"{x} is not a prime number.\")"
   ]
  },
  {
   "cell_type": "code",
   "execution_count": 6,
   "metadata": {},
   "outputs": [
    {
     "name": "stdout",
     "output_type": "stream",
     "text": [
      "Prime numbers from 1 to 89 are: [2, 3, 5, 7, 11, 13, 17, 19, 23, 29, 31, 37, 41, 43, 47, 53, 59, 61, 67, 71, 73, 79, 83, 89]\n",
      "Prime numbers from 1 to 90 are: [2, 3, 5, 7, 11, 13, 17, 19, 23, 29, 31, 37, 41, 43, 47, 53, 59, 61, 67, 71, 73, 79, 83, 89]\n"
     ]
    }
   ],
   "source": [
    "# Input: Read the value of n from the user\n",
    "n = int(input(\"Enter the value of n: \"))\n",
    "\n",
    "\n",
    "prime_numbers = [\n",
    "    i for i in range(2, n + 1)\n",
    "    if all(i % j != 0 for j in range(2, int(i**0.5) + 1))\n",
    "]\n",
    "\n",
    "# Print the resulting list of prime numbers\n",
    "print(\"Prime numbers from 1 to\", n, \"are:\", prime_numbers)\n",
    "\n",
    "\n",
    "# Input: Read the value of n from the user\n",
    "n = int(input(\"Enter the value of n: \"))\n",
    "\n",
    "# Initialize an empty list to store prime numbers\n",
    "prime_numbers = []\n",
    "\n",
    "# Iterate over each number from 2 to n\n",
    "for i in range(2, n + 1):\n",
    "    # Assume the number is prime\n",
    "    is_prime = True\n",
    "    # Check if the number is divisible by any number from 2 to the square root of i\n",
    "    for j in range(2, int(i**0.5) + 1):\n",
    "        if i % j == 0:\n",
    "            is_prime = False\n",
    "            break\n",
    "    # If the number is prime, add it to the list\n",
    "    if is_prime:\n",
    "        prime_numbers.append(i)\n",
    "\n",
    "# Print the resulting list of prime numbers\n",
    "print(\"Prime numbers from 1 to\", n, \"are:\", prime_numbers)"
   ]
  },
  {
   "cell_type": "code",
   "execution_count": 11,
   "metadata": {},
   "outputs": [
    {
     "name": "stdout",
     "output_type": "stream",
     "text": [
      "right?\n"
     ]
    }
   ],
   "source": [
    "#accessing attribute of the function\n",
    "def my_fun():\n",
    "    print(my_fun.data['what'])\n",
    "my_fun.data={'what':\"right?\"}\n",
    "my_fun()\n"
   ]
  },
  {
   "cell_type": "code",
   "execution_count": 12,
   "metadata": {},
   "outputs": [
    {
     "name": "stdout",
     "output_type": "stream",
     "text": [
      "3\n",
      "3\n",
      "4\n",
      "4\n"
     ]
    }
   ],
   "source": [
    "r=7&3\n",
    "print(r)\n",
    "r1=3&7\n",
    "print(r1)\n",
    "r=7^3\n",
    "print(r)\n",
    "r1=3^7\n",
    "print(r1)\n"
   ]
  },
  {
   "cell_type": "code",
   "execution_count": 1,
   "metadata": {},
   "outputs": [
    {
     "name": "stdout",
     "output_type": "stream",
     "text": [
      "hello world\n"
     ]
    }
   ],
   "source": [
    "# hello world\n",
    "print(\"hello world\")"
   ]
  },
  {
   "cell_type": "code",
   "execution_count": 13,
   "metadata": {},
   "outputs": [
    {
     "name": "stdout",
     "output_type": "stream",
     "text": [
      "72 17 1 \n",
      " 1.125 1\n"
     ]
    }
   ],
   "source": [
    "#arithmetic operation add div sun mul\n",
    "a=9\n",
    "b=8\n",
    "c=a*b\n",
    "d=a+b\n",
    "e=a-b\n",
    "f=a/b\n",
    "g=a%b\n",
    "print(c ,d,e,\"\\n\",f,g )"
   ]
  },
  {
   "cell_type": "code",
   "execution_count": 5,
   "metadata": {},
   "outputs": [
    {
     "name": "stdout",
     "output_type": "stream",
     "text": [
      "56\n"
     ]
    }
   ],
   "source": [
    "n=int(input())\n",
    "m=int(input())\n",
    "print(n*m)"
   ]
  },
  {
   "cell_type": "code",
   "execution_count": 15,
   "metadata": {},
   "outputs": [
    {
     "name": "stdout",
     "output_type": "stream",
     "text": [
      "area of the rectangle 6\n",
      "perimeter of the rectangle 10\n"
     ]
    }
   ],
   "source": [
    "#find area of rectange\n",
    "l=int(input())\n",
    "b=int(input())\n",
    "c=l*b\n",
    "print(\"area of the rectangle\",c)\n",
    "d=2*(l+b)\n",
    "print(\"perimeter of the rectangle\",d)"
   ]
  },
  {
   "cell_type": "code",
   "execution_count": 22,
   "metadata": {},
   "outputs": [
    {
     "name": "stdout",
     "output_type": "stream",
     "text": [
      "7 8\n",
      "8\n",
      "7\n"
     ]
    }
   ],
   "source": [
    "#swap two numbers\n",
    "a=7\n",
    "b=8\n",
    "print(\"before\",a)\n",
    "temp=a\n",
    "a=b\n",
    "b=temp\n",
    "print(\"after\")\n",
    "print(a)\n",
    "print(b)\n"
   ]
  },
  {
   "cell_type": "code",
   "execution_count": 4,
   "metadata": {},
   "outputs": [
    {
     "name": "stdout",
     "output_type": "stream",
     "text": [
      "random number:53\n"
     ]
    }
   ],
   "source": [
    "import random\n",
    "print(f\"random number:{random.randint(1,100)}\")"
   ]
  },
  {
   "cell_type": "code",
   "execution_count": 11,
   "metadata": {},
   "outputs": [
    {
     "name": "stdout",
     "output_type": "stream",
     "text": [
      "89.0kilometers into 55.337085miles\n"
     ]
    }
   ],
   "source": [
    "km=float(input(\"entr nimner\"))\n",
    "con_factor=0.621765\n",
    "miles=km*con_factor\n",
    "print(f\"{km}kilometers into {miles}miles\")"
   ]
  },
  {
   "cell_type": "code",
   "execution_count": 13,
   "metadata": {},
   "outputs": [
    {
     "name": "stdout",
     "output_type": "stream",
     "text": [
      "37.0 celsiues convert into farenhiet98.6farenheit\n"
     ]
    }
   ],
   "source": [
    "#covert celcius to farenhiet\n",
    "cel=float(input())\n",
    "farenhiet=(cel*9/5)+32\n",
    "print(f\"{cel} celsiues convert into farenhiet{farenhiet}farenheit\")"
   ]
  },
  {
   "cell_type": "code",
   "execution_count": 14,
   "metadata": {},
   "outputs": [
    {
     "name": "stdout",
     "output_type": "stream",
     "text": [
      "   February 2025\n",
      "Mo Tu We Th Fr Sa Su\n",
      "                1  2\n",
      " 3  4  5  6  7  8  9\n",
      "10 11 12 13 14 15 16\n",
      "17 18 19 20 21 22 23\n",
      "24 25 26 27 28\n",
      "\n"
     ]
    }
   ],
   "source": [
    "\n",
    "import calendar\n",
    "\n",
    "year = int(input(\"Enter year: \"))\n",
    "month = int(input(\"Enter month: \"))\n",
    "cal = calendar.month(year, month)\n",
    "print(cal)"
   ]
  },
  {
   "cell_type": "code",
   "execution_count": 24,
   "metadata": {},
   "outputs": [
    {
     "name": "stdout",
     "output_type": "stream",
     "text": [
      "root1:-2.0+2.0i\n",
      "root2:-2.0+2.0i\n"
     ]
    }
   ],
   "source": [
    "import math\n",
    "a=1\n",
    "b=4\n",
    "c=8\n",
    "discrim =b**2-4*a*c\n",
    "if discrim >2:\n",
    "    root1= (-b+math.sqrt(discrim))/(2*a)\n",
    "    root2= (-b+math.sqrt(discrim))/(2*a)\n",
    "    print(f\"root 1:{root1}\")\n",
    "    print(f\"root2:{root2}\")\n",
    "elif discrim == 0:\n",
    "    root = -b/(2*a)\n",
    "    print(f\"root:{root}\")\n",
    "else:\n",
    "    real_part =-b/(2*a)\n",
    "    imaginary_part=math.sqrt(abs(discrim))/(2*a)\n",
    "    print(f\"root1:{real_part}+{imaginary_part}i\")\n",
    "    print(f\"root2:{real_part}+{imaginary_part}i\")\n",
    "\n"
   ]
  },
  {
   "cell_type": "code",
   "execution_count": 35,
   "metadata": {},
   "outputs": [
    {
     "name": "stdout",
     "output_type": "stream",
     "text": [
      "after swapping\n",
      "a= 7\n",
      "b= 9\n"
     ]
    }
   ],
   "source": [
    "#swap two variables without third item\n",
    "a=9\n",
    "b=7\n",
    "a, b = b, a\n",
    "print(\"after swapping\")\n",
    "print(\"a=\",a)\n",
    "print(\"b=\",b)"
   ]
  },
  {
   "cell_type": "code",
   "execution_count": 39,
   "metadata": {},
   "outputs": [
    {
     "name": "stdout",
     "output_type": "stream",
     "text": [
      "negative numbers\n"
     ]
    }
   ],
   "source": [
    "#check n is + - 0r 0\n",
    "n=int(input(\"number\"))\n",
    "if n > 0:\n",
    "    print(\"this is positive\")\n",
    "elif n == 0:\n",
    "    print(\"equal to zero\")\n",
    "else  :\n",
    "    print(\"negative numbers\")"
   ]
  },
  {
   "cell_type": "code",
   "execution_count": 41,
   "metadata": {},
   "outputs": [
    {
     "name": "stdout",
     "output_type": "stream",
     "text": [
      " given num is odd\n"
     ]
    }
   ],
   "source": [
    "#even odd\n",
    "n =int(input(\"num\"))\n",
    "if( n%2 == 0):\n",
    "    print(\"given num is even\")\n",
    "else:\n",
    "    print(\" given num is odd\")\n"
   ]
  },
  {
   "cell_type": "code",
   "execution_count": 47,
   "metadata": {},
   "outputs": [
    {
     "name": "stdout",
     "output_type": "stream",
     "text": [
      "not leaf 2025\n"
     ]
    }
   ],
   "source": [
    "#leaf or not\n",
    "y=int(input(\"enter year\"))\n",
    "if ( y % 400 == 0) and(y % 100 == 0):\n",
    "    print(\"year is leaf\",y)\n",
    "elif  ( y % 4 == 0) and(y % 100 != 0):\n",
    "    print (\"year is leaf\",y)\n",
    "else:\n",
    "    print(\"not leaf\",y)\n",
    "    "
   ]
  },
  {
   "cell_type": "code",
   "execution_count": 20,
   "metadata": {},
   "outputs": [
    {
     "name": "stdout",
     "output_type": "stream",
     "text": [
      "largest element is: 5678\n"
     ]
    }
   ],
   "source": [
    "#find the largest element in the array\n",
    "def l_r(arr):\n",
    "    if not arr:\n",
    "        return \"invalid\"\n",
    "    big= arr[0]\n",
    "    for element in   arr:\n",
    "        if element > big:\n",
    "            big=element\n",
    "    return big\n",
    "my_fun =[4,5,7,3,2,8,9,4,399,5678]\n",
    "res=l_r(my_fun)\n",
    "print(f\"largest element is: {res}\")\n",
    "    "
   ]
  },
  {
   "cell_type": "code",
   "execution_count": 7,
   "metadata": {},
   "outputs": [
    {
     "name": "stdout",
     "output_type": "stream",
     "text": [
      "not prime \n"
     ]
    }
   ],
   "source": [
    "#prime or not\n",
    "n=int(input(\"enter number\"))\n",
    "if n > 0:\n",
    "    for i in range(2,n):\n",
    "        if (n%i== 0):\n",
    "            print(\"not prime \")\n",
    "            break\n",
    "    else:\n",
    "        print(\"prime\")\n",
    "            \n",
    "\n",
    "\n",
    "      "
   ]
  },
  {
   "cell_type": "code",
   "execution_count": 13,
   "metadata": {},
   "outputs": [
    {
     "name": "stdout",
     "output_type": "stream",
     "text": [
      "True \n",
      " False\n"
     ]
    }
   ],
   "source": [
    "#boolean\n",
    "a=1==True\n",
    "b=1==False\n",
    "print( a,\"\\n\", b)"
   ]
  },
  {
   "cell_type": "code",
   "execution_count": 15,
   "metadata": {},
   "outputs": [
    {
     "name": "stdout",
     "output_type": "stream",
     "text": [
      "[4, 5, 6, 7, 8, 9]\n"
     ]
    }
   ],
   "source": [
    "# Example list\n",
    "example_list = list(set([4, 5, 6, 7, 8, 9, 9]))\n",
    "\n",
    "# Read input from the user and convert it to a list of integers\n",
    "r = list(map(int,example_list))\n",
    "\n",
    "# Print the resulting list\n",
    "print(r)"
   ]
  },
  {
   "cell_type": "code",
   "execution_count": null,
   "metadata": {},
   "outputs": [],
   "source": [
    " #  original_grid = [list(map(int, input().split())) for _ in range(4)] (or)\n",
    "original_grid = []\n",
    "print(\"Enter the original grid (4 rows of 4 integers each):\")\n",
    "for i in range(4):\n",
    "    row = list(map(int, input().split()))\n",
    "\n",
    "    original_grid.append(row)\n",
    "print(original_grid )\n",
    "   "
   ]
  },
  {
   "cell_type": "code",
   "execution_count": null,
   "metadata": {},
   "outputs": [
    {
     "name": "stdout",
     "output_type": "stream",
     "text": [
      "[('b', 19), ('a', 20), ('c', 25)]\n",
      "[2, 4, 6, 8, 10]\n"
     ]
    }
   ],
   "source": [
    "#sorting using lamda\n",
    "x=[('a',20),('b',19),('c',25)]\n",
    "x.sort(key=lambda  x:x[1])\n",
    "print(x)\n",
    "#filter\n",
    "y =[1, 2, 3, 4, 5, 6, 7, 8, 9, 10]\n",
    "z=list(filter(lambda  y :y%2 ==0,y),)\n",
    "print(z)\n"
   ]
  },
  {
   "cell_type": "code",
   "execution_count": 34,
   "metadata": {},
   "outputs": [
    {
     "name": "stdout",
     "output_type": "stream",
     "text": [
      "10\n"
     ]
    }
   ],
   "source": [
    "#local variable\n",
    "def fun():\n",
    "    t=10\n",
    "    print(t)\n",
    "\n",
    "fun()\n"
   ]
  },
  {
   "cell_type": "code",
   "execution_count": 4,
   "metadata": {},
   "outputs": [
    {
     "name": "stdout",
     "output_type": "stream",
     "text": [
      "30\n"
     ]
    }
   ],
   "source": [
    "# global varaible\n",
    "y=30\n",
    "def fun1():\n",
    "    print(y)\n",
    "fun1()"
   ]
  }
 ],
 "metadata": {
  "kernelspec": {
   "display_name": "Python 3",
   "language": "python",
   "name": "python3"
  },
  "language_info": {
   "codemirror_mode": {
    "name": "ipython",
    "version": 3
   },
   "file_extension": ".py",
   "mimetype": "text/x-python",
   "name": "python",
   "nbconvert_exporter": "python",
   "pygments_lexer": "ipython3",
   "version": "3.11.4"
  }
 },
 "nbformat": 4,
 "nbformat_minor": 2
}
