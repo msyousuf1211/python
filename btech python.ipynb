{
 "cells": [
  {
   "cell_type": "code",
   "execution_count": null,
   "metadata": {},
   "outputs": [
    {
     "name": "stdout",
     "output_type": "stream",
     "text": [
      "hello world\n"
     ]
    }
   ],
   "source": [
    "#hello world\n",
    "print('hello world')"
   ]
  },
  {
   "cell_type": "code",
   "execution_count": null,
   "metadata": {},
   "outputs": [
    {
     "name": "stdout",
     "output_type": "stream",
     "text": [
      "hello \n",
      " hi \n",
      " 'the game is over'\n"
     ]
    }
   ],
   "source": [
    "#python string iterals\n",
    "a='hello'\n",
    "b=\"hi\"\n",
    "c=\"'the game is over'\"\n",
    "print(a,\"\\n\",b ,\"\\n\",c)\n"
   ]
  },
  {
   "cell_type": "code",
   "execution_count": null,
   "metadata": {},
   "outputs": [
    {
     "name": "stdout",
     "output_type": "stream",
     "text": [
      "10 \n",
      " 1010101010 1.56\n",
      "<class 'int'>\n"
     ]
    }
   ],
   "source": [
    "#numeric iterals\n",
    "a=10\n",
    "b=1010101010\n",
    "c=1.56\n",
    "d= 9\n",
    "print(a,\"\\n\",\n",
    "      b,\n",
    "      c)\n",
    "print(type(d))"
   ]
  },
  {
   "cell_type": "code",
   "execution_count": null,
   "metadata": {},
   "outputs": [
    {
     "name": "stdout",
     "output_type": "stream",
     "text": [
      "True \n",
      " False\n"
     ]
    }
   ],
   "source": [
    "#boolean\n",
    "a=1==True\n",
    "b=1==False\n",
    "print( a,\"\\n\", b)"
   ]
  },
  {
   "cell_type": "code",
   "execution_count": 2,
   "metadata": {},
   "outputs": [
    {
     "name": "stdout",
     "output_type": "stream",
     "text": [
      "not prime  60\n"
     ]
    }
   ],
   "source": [
    "#prime or not\n",
    "n=int(input(\"enter number\"))\n",
    "if n > 0:\n",
    "    for i in range(2,n):\n",
    "        if (n%i== 0):\n",
    "            print(\"not prime \",n)\n",
    "            break\n",
    "    else:\n",
    "        print(\"prime\")\n",
    "            \n",
    "\n",
    "\n",
    "      "
   ]
  },
  {
   "cell_type": "code",
   "execution_count": null,
   "metadata": {},
   "outputs": [
    {
     "name": "stdout",
     "output_type": "stream",
     "text": [
      "(1, 3, 'add', 'change', 'kk')\n",
      "('same data type', 'cant change')\n",
      "{'key': 'value', 1: 'save'}\n",
      "(1, 2, 3, 4, 5, 6)\n"
     ]
    }
   ],
   "source": [
    "#literal collection\n",
    "list=[1,3,\"add\",\"change\",'kk']\n",
    "tuple =(\"different data tpye  data type\",\"cant change\")\n",
    "dict={\"key\":\"value\",1:\"save\"}\n",
    "set=(1,2,3,4,5,6)\n",
    "print(list)\n",
    "print(tuple)\n",
    "print(dict)\n",
    "print(set)"
   ]
  },
  {
   "cell_type": "code",
   "execution_count": 2,
   "metadata": {},
   "outputs": [
    {
     "name": "stdout",
     "output_type": "stream",
     "text": [
      "available\n",
      "None\n"
     ]
    }
   ],
   "source": [
    "\n",
    "Bottles = \"available\"  \n",
    "cups = None  \n",
    "\n",
    "print(Bottles)\n",
    "print(cups)"
   ]
  },
  {
   "cell_type": "code",
   "execution_count": null,
   "metadata": {},
   "outputs": [
    {
     "name": "stdout",
     "output_type": "stream",
     "text": [
      "<class 'int'> <class 'float'>\n",
      "{}\n",
      "<class 'dict'>\n",
      "{1: 2, 9: 'uu'}\n",
      "{'s', 'a', 'i', 't'}\n",
      "<class 'set'>\n"
     ]
    }
   ],
   "source": [
    "#numeric data tpes\n",
    "a=1\n",
    "b=2.1\n",
    "print(type(a),type(b))\n",
    "#dictonary data types\n",
    "dict={}\n",
    "print(dict)\n",
    "print(type(dict))\n",
    "dict1={1:2,9:\"uu\"}\n",
    "print(dict1)\n",
    "#set data types\n",
    "set1=set(\"aits\")\n",
    "print(set1)\n",
    "print(type(set1))"
   ]
  },
  {
   "cell_type": "code",
   "execution_count": null,
   "metadata": {},
   "outputs": [
    {
     "name": "stdout",
     "output_type": "stream",
     "text": [
      "30 11 -1 0 5\n",
      "False\n",
      "True\n",
      "False\n",
      "False False True True False True\n",
      "14 31 17 -31 0 983040\n",
      "7\n",
      "7\n",
      "105\n",
      "not have\n",
      "have\n"
     ]
    }
   ],
   "source": [
    "#arithmetic operators\n",
    "a=5\n",
    "b=6\n",
    "print(a*b,a+b,a-b,a//b,a%b)\n",
    "#logical operators\n",
    "c=True\n",
    "d=False\n",
    "print(c and d)\n",
    "print(c or d)\n",
    "print( not c)\n",
    "#0comparison operators\n",
    "e=7\n",
    "f=8\n",
    "print(e==f,e>f,e<f,e<=f,e>=f,e!=f)\n",
    "#bit wise operator\n",
    "a=30\n",
    "b=15\n",
    "print(a&b,a|b,a^b,~a,a>>b,a<<b)\n",
    "#assign ment operators\n",
    "a=7\n",
    "b=8\n",
    "b+=a\n",
    "print(a)\n",
    "b==a\n",
    "print(a)\n",
    "a*=b\n",
    "print(a)\n",
    "#membership operations\n",
    "x=9\n",
    "y=20\n",
    "list=[10,3,4,4,5,5,9]\n",
    "if y  in list:\n",
    "    print(\"have\")\n",
    "else:\n",
    "    print(\"not have\")\n",
    "#identity operator\n",
    "x=10\n",
    "y=10\n",
    "\n",
    "if x is  y:\n",
    "    print(\"have\")    \n",
    "else:\n",
    "    print(\"not have\")\n"
   ]
  },
  {
   "cell_type": "code",
   "execution_count": null,
   "metadata": {},
   "outputs": [
    {
     "name": "stdout",
     "output_type": "stream",
     "text": [
      "name is yousuf\n"
     ]
    }
   ],
   "source": [
    "#input output statement\n",
    "\n",
    "i=input(\"enter number 0r name\")\n",
    "print(i)"
   ]
  },
  {
   "cell_type": "code",
   "execution_count": null,
   "metadata": {},
   "outputs": [
    {
     "name": "stdout",
     "output_type": "stream",
     "text": [
      "msmahammad"
     ]
    }
   ],
   "source": [
    "#break and contine\n",
    "for i in \"msmahammadyousuf\":\n",
    "    if i=='y':\n",
    "        break\n",
    "    print(i,end='')\n",
    "\n",
    "\n"
   ]
  },
  {
   "cell_type": "code",
   "execution_count": null,
   "metadata": {},
   "outputs": [
    {
     "name": "stdout",
     "output_type": "stream",
     "text": [
      "sahaadyousuf"
     ]
    }
   ],
   "source": [
    "#continue\n",
    "for j in \"msmahammadyousuf\":\n",
    "    if j==\"m\":\n",
    "        continue\n",
    "    print(j,end=\"\")"
   ]
  },
  {
   "cell_type": "code",
   "execution_count": null,
   "metadata": {},
   "outputs": [
    {
     "name": "stdout",
     "output_type": "stream",
     "text": [
      "msmahammadyousuf"
     ]
    }
   ],
   "source": [
    "#pass used for emty function means there is nithing no required for any thing\n",
    "for j in \"msmahammadyousuf\":\n",
    "    if j==\"s\":\n",
    "        pass\n",
    "    print(j,end='')"
   ]
  },
  {
   "cell_type": "code",
   "execution_count": 8,
   "metadata": {},
   "outputs": [
    {
     "name": "stdout",
     "output_type": "stream",
     "text": [
      "hi 0 hi 1 hi 2 hi 3 "
     ]
    }
   ],
   "source": [
    "#while loop\n",
    "i=0\n",
    "while i<4:\n",
    "    print(\"hi\",i,end=' ')\n",
    "    i=i+1\n"
   ]
  },
  {
   "cell_type": "code",
   "execution_count": 27,
   "metadata": {},
   "outputs": [
    {
     "name": "stdout",
     "output_type": "stream",
     "text": [
      "1 3 5 5 6 6 6 6 7 7 3 "
     ]
    }
   ],
   "source": [
    "#for loop\n",
    "l=[1,3,5,5,6,6,6,6,7,7,3]\n",
    "for i in l:\n",
    "    print(i,end=' ')\n"
   ]
  },
  {
   "cell_type": "code",
   "execution_count": 14,
   "metadata": {},
   "outputs": [
    {
     "name": "stdout",
     "output_type": "stream",
     "text": [
      "1 @\n",
      "2 @2 @\n",
      "3 @3 @3 @\n",
      "4 @4 @4 @4 @\n",
      "5 @5 @5 @5 @5 @\n"
     ]
    }
   ],
   "source": [
    "\n",
    "#nested loop\n",
    "for i in range (1,5+1):\n",
    "    for j in range (i):\n",
    "        print(i,end=\" @\")\n",
    "    print( )"
   ]
  },
  {
   "cell_type": "code",
   "execution_count": null,
   "metadata": {},
   "outputs": [
    {
     "name": "stdout",
     "output_type": "stream",
     "text": [
      "not a prime\n"
     ]
    }
   ],
   "source": [
    "\n",
    "#prime or not\n",
    "n=int(input(\"enetr number\"))\n",
    "if n>0:\n",
    "    for i in (2,n):\n",
    "        if(n%i==0):\n",
    "            print(\"not a prime\")\n",
    "            break\n",
    "    else:\n",
    "        print(\"prime\")"
   ]
  },
  {
   "cell_type": "code",
   "execution_count": null,
   "metadata": {},
   "outputs": [
    {
     "name": "stdout",
     "output_type": "stream",
     "text": [
      "amstrong 407\n"
     ]
    }
   ],
   "source": [
    "#given numer is amstrong ornot\n",
    "num=int(input(\"number\"))\n",
    "t=num\n",
    "s=0\n",
    "while t>0:\n",
    "    i= t % 10\n",
    "    s=s+(i**3)\n",
    "    t=t//10\n",
    "if (num==s):\n",
    "    print(\"amstrong\",num)\n",
    "else:\n",
    "    print(\"not\",s)"
   ]
  },
  {
   "cell_type": "code",
   "execution_count": 21,
   "metadata": {},
   "outputs": [
    {
     "name": "stdout",
     "output_type": "stream",
     "text": [
      "0\n",
      "1\n",
      "1 2 3 5 8 13 21 34 "
     ]
    }
   ],
   "source": [
    "#fibonacci series\n",
    "def fib(n):\n",
    "    a=0\n",
    "    b=1\n",
    "    if n==1:\n",
    "        print(a)\n",
    "    else:\n",
    "        print(a)\n",
    "        print(b)\n",
    "     \n",
    "        for i in range(2,n):\n",
    "            c=a+b\n",
    "            a=b\n",
    "            b=c\n",
    "            print(b,end=\" \")\n",
    "fib(10)"
   ]
  },
  {
   "cell_type": "code",
   "execution_count": null,
   "metadata": {},
   "outputs": [
    {
     "name": "stdout",
     "output_type": "stream",
     "text": [
      "[1, 4, 9, 16, 25, 36, 49, 64, 81, 100]\n"
     ]
    }
   ],
   "source": [
    "# sum of n natural numbers\n",
    "n=int(input(\"number\"))\n",
    "for i in range (1,10+1):\n",
    "    i=i*i\n",
    "    print(i,end=\" \")\n",
    "#r=[i*i for i in range  (1,10+1) ]\n",
    "print(\"hi\")"
   ]
  },
  {
   "cell_type": "code",
   "execution_count": null,
   "metadata": {},
   "outputs": [
    {
     "name": "stdout",
     "output_type": "stream",
     "text": [
      "124 number\n"
     ]
    }
   ],
   "source": [
    "#reverse of string\n",
    "n=124\n",
    "i=0\n",
    "s=0\n",
    "while n>0:\n",
    "    i=n%10\n",
    "    s=s*10+i\n",
    "    n=n//10\n",
    "    print(s)\n",
    "print(s,\"number\")"
   ]
  },
  {
   "cell_type": "code",
   "execution_count": 23,
   "metadata": {},
   "outputs": [
    {
     "name": "stdout",
     "output_type": "stream",
     "text": [
      "\n",
      "1 \n",
      "2 2 \n",
      "3 3 3 \n",
      "4 4 4 4 \n",
      "5 5 5 5 5 \n"
     ]
    }
   ],
   "source": [
    "#traingle pattern\n",
    "for i in range (0,6):\n",
    "    for j in range (i):\n",
    "        print(i,end=\" \")\n",
    "        \n",
    "    print( )\n"
   ]
  },
  {
   "cell_type": "code",
   "execution_count": 28,
   "metadata": {},
   "outputs": [
    {
     "name": "stdout",
     "output_type": "stream",
     "text": [
      "6 6 6 6 6 6 \n",
      "5 5 5 5 5 \n",
      "4 4 4 4 \n",
      "3 3 3 \n",
      "2 2 \n",
      "1 \n"
     ]
    }
   ],
   "source": [
    "#traingle pattern\n",
    "for i in range (6,0,-1):\n",
    "    for j in range (i):\n",
    "        print(i,end=\" \")\n",
    "        \n",
    "    print( )\n"
   ]
  },
  {
   "cell_type": "code",
   "execution_count": 63,
   "metadata": {},
   "outputs": [
    {
     "name": "stdout",
     "output_type": "stream",
     "text": [
      "0 0 0 0 0   \n",
      "1 1 1 1   \n",
      "2 2 2   \n",
      "3 3   \n",
      "4   \n",
      "  \n"
     ]
    }
   ],
   "source": [
    "#traingle pattern\n",
    "for t in range (0,6):\n",
    "    for u in range (6,t+1,-1):\n",
    "        print(t,end=\" \")\n",
    "        \n",
    "    print(\"  \" )\n"
   ]
  },
  {
   "cell_type": "code",
   "execution_count": null,
   "metadata": {},
   "outputs": [],
   "source": []
  },
  {
   "cell_type": "code",
   "execution_count": null,
   "metadata": {},
   "outputs": [
    {
     "name": "stdout",
     "output_type": "stream",
     "text": [
      "odd\n",
      "odd\n",
      "even\n"
     ]
    }
   ],
   "source": [
    "#functions\n",
    "def evenodd(n):\n",
    "    if n%2==0:\n",
    "        print(\"even\")\n",
    "    else:\n",
    "        print(\"odd\")\n",
    "evenodd(5)\n",
    "evenodd(15)\n",
    "evenodd(50)"
   ]
  },
  {
   "cell_type": "code",
   "execution_count": null,
   "metadata": {},
   "outputs": [
    {
     "name": "stdout",
     "output_type": "stream",
     "text": [
      "25\n"
     ]
    }
   ],
   "source": [
    "#function with return statement\n",
    "def add(x):\n",
    "    sum=0\n",
    "    for i in x:\n",
    "        sum=sum+i\n",
    "    return (sum)\n",
    "x=[2,3,4,5,5,6]\n",
    "print(add(x))#object calling  t=add(x) then print(t)\n",
    "        "
   ]
  },
  {
   "cell_type": "code",
   "execution_count": null,
   "metadata": {},
   "outputs": [
    {
     "name": "stdout",
     "output_type": "stream",
     "text": [
      "30 10\n",
      "\n"
     ]
    }
   ],
   "source": [
    "#default argument\n",
    "def add(x,y=10):\n",
    "    print(x,y)\n",
    "add(30)\n"
   ]
  },
  {
   "cell_type": "code",
   "execution_count": null,
   "metadata": {},
   "outputs": [
    {
     "name": "stdout",
     "output_type": "stream",
     "text": [
      "usuf mahammad\n",
      "1 23.4 4.4 r 55 "
     ]
    }
   ],
   "source": [
    "#length of non keyword argument\n",
    "def fun(fn,ln):\n",
    "    print(fn,ln)\n",
    "fun(\"usuf\",\"mahammad\")\n",
    "\n",
    "def fun(*arg):\n",
    "    for args in  arg:\n",
    "        print(args,end=\" \")\n",
    "fun(1,23.4,4.4,'r',55,)"
   ]
  },
  {
   "cell_type": "code",
   "execution_count": null,
   "metadata": {},
   "outputs": [
    {
     "name": "stdout",
     "output_type": "stream",
     "text": [
      "[1, 2, 9, 3, 5, 6]\n"
     ]
    }
   ],
   "source": [
    "def bubble(a):\n",
    "    n = len(a)\n",
    "    for i in range(n-1):\n",
    "        for j in range(n-i-1):\n",
    "            if a[j] > a[j+1]:\n",
    "                a[j], a[j+1] = a[j+1], a[j]\n",
    "\n",
    "a = [1, 2, 9, 3, 5, 6]\n",
    "bubble(a)\n",
    "print(a)"
   ]
  },
  {
   "cell_type": "code",
   "execution_count": null,
   "metadata": {},
   "outputs": [
    {
     "name": "stdout",
     "output_type": "stream",
     "text": [
      "120\n"
     ]
    }
   ],
   "source": [
    "#factotial using recursion\n",
    "def fact(n):\n",
    "    if n == 0:\n",
    "        return 1\n",
    "    else:\n",
    "        return n*fact(n-1)# here fact cahnges 5,4,3,2,1,0\n",
    "x=fact(5)\n",
    "print(x)\n"
   ]
  },
  {
   "cell_type": "code",
   "execution_count": 47,
   "metadata": {},
   "outputs": [
    {
     "name": "stdout",
     "output_type": "stream",
     "text": [
      "0 1 1 2 3 "
     ]
    }
   ],
   "source": [
    "def fib(n):\n",
    "    if n<=1:\n",
    "        return 0\n",
    "    elif n==2:\n",
    "        return 1\n",
    "    else:\n",
    "        return fib(n-1)+fib(n-2)# it generates the index value of 4 3 like that the fabinov=cci will gwt by for loop\n",
    "n = 5 \n",
    "for i in range(1, n + 1):\n",
    "    print(fib(i), end=\" \")"
   ]
  },
  {
   "cell_type": "code",
   "execution_count": null,
   "metadata": {},
   "outputs": [
    {
     "name": "stdout",
     "output_type": "stream",
     "text": [
      "[1, 2, 3, 4, 5, 5, 6]\n",
      "[1, 2, 9, 3, 4, 5, 5, 6]\n",
      "[1, 2, 9, 3, 4, 5, 6]\n",
      "[1, 2, 9, 3, 4, 5, 6, 'how are u man']\n",
      "[1, 2, 'hi', 3, 4, 5, 6, 'how are u man', 'hi']\n",
      "[1, 2, 'hi', 3, 4, 5, 6, 'how are u man']\n",
      "[1, 2, 3, 4, 5, 6, 'how are u man']\n",
      "[]\n",
      "<method 'copy' of 'list' objects>\n",
      "[]\n"
     ]
    }
   ],
   "source": [
    "#list\n",
    "l=[1,2,3,4,5,5]\n",
    "l.append(6)\n",
    "print(l)\n",
    "l.insert(2,9)\n",
    "print(l)\n",
    "l.remove(5)\n",
    "print(l)\n",
    "l.append(\"how are u man\")\n",
    "print(l)\n",
    "l[2]=\"hi\"\n",
    "l.append(l[2])\n",
    "print(l)    \n",
    "l.pop()\n",
    "print(l)\n",
    "l.pop(2)\n",
    "print(l)\n",
    "l.clear()\n",
    "print(l)\n",
    "list1=list.copy\n",
    "print(list1)\n",
    "print(l)"
   ]
  },
  {
   "cell_type": "code",
   "execution_count": null,
   "metadata": {},
   "outputs": [
    {
     "name": "stdout",
     "output_type": "stream",
     "text": [
      "0 \n",
      " 54\n"
     ]
    }
   ],
   "source": [
    "# finding largest smallest element in the list\n",
    "l=[1,4,7,9,9,0,6,54,3,3,3,3]\n",
    "n1=min(l)\n",
    "n2=max(l)\n",
    "print(n1,\n",
    "     \"\\n\" ,n2)"
   ]
  },
  {
   "cell_type": "code",
   "execution_count": null,
   "metadata": {},
   "outputs": [
    {
     "name": "stdout",
     "output_type": "stream",
     "text": [
      "[5, 5]\n",
      "[33]\n",
      "[5, 7, 9, 9, 6, 5, 33]\n",
      "[1, 3, 5, 7, 9, 9, 6, 5, 33]\n",
      "[1, 3, 5, 7, 9, 9, 6, 5, 33, 67]\n",
      "[1, 3, 5, 7, 9, 9, 6, 5, 33, 67, 44, 5, 6, 7, 8, 8, 9, 9, 0, 0]\n",
      "[1, 3]\n"
     ]
    }
   ],
   "source": [
    "#negative indexing list slicing\n",
    "l=[1,3,5,7,9,9,6,5,33]\n",
    "print(l[2::5])\n",
    "print(l[-1:])\n",
    "print(l[2:])\n",
    "print(l[:])\n",
    "l.append(67)\n",
    "print(l)\n",
    "l.extend([44,5,6,7,8,8,9,9,0,0])\n",
    "print(l)\n",
    "del l[2:]\n",
    "print(l)"
   ]
  },
  {
   "cell_type": "code",
   "execution_count": null,
   "metadata": {},
   "outputs": [
    {
     "name": "stdout",
     "output_type": "stream",
     "text": [
      "{'name': 'yousuf', 1: 2, 66: 'name'}\n",
      "dict_keys(['name', 1, 66])\n",
      "dict_values(['yousuf', 2, 'name'])\n",
      "dict_items([('name', 'yousuf'), (1, 2), (66, 'name')])\n"
     ]
    }
   ],
   "source": [
    "#creation of the dictionary\n",
    "dict={'name':'yousuf',1:2,66:'name'}\n",
    "print(dict)\n",
    "print(dict.keys())\n",
    "print(dict.values())\n",
    "print(dict.items())"
   ]
  },
  {
   "cell_type": "code",
   "execution_count": null,
   "metadata": {},
   "outputs": [
    {
     "name": "stdout",
     "output_type": "stream",
     "text": [
      "2\n",
      "enter the values are\n",
      "enter the values are\n",
      "{'1': '2', '4': '5'}\n"
     ]
    }
   ],
   "source": [
    "#take input from keyboard for dict\n",
    "x={}\n",
    "n=int(input(\"values\"))\n",
    "print(n)\n",
    "for i in range (n):\n",
    "    print(\"enter the values are\")\n",
    "    k=input()\n",
    "    v=input()\n",
    "    x.update({k:v})\n",
    "print(x)"
   ]
  },
  {
   "cell_type": "code",
   "execution_count": null,
   "metadata": {},
   "outputs": [
    {
     "name": "stdout",
     "output_type": "stream",
     "text": [
      "{1, 2, 4, 5, 6, 7, 8}\n",
      "{1, 2, 4, 5, 6, 7, 8, 78}\n",
      "{0, 3, 4, 5, 6, 8, 9}\n",
      "{0, 2, 3, 4, 5, 6, 8, 9, 77}\n",
      "{0, 3, 4, 5, 6, 8, 9}\n",
      "set()\n"
     ]
    }
   ],
   "source": [
    "#frozen sets\n",
    "s1={1,2,4,5,6,6,7,7,8,8,8}#no duplictaes will print here\n",
    "print(s1)\n",
    "#adding element in sets\n",
    "s1.add(78)# add exactly one argument\n",
    "print(s1)\n",
    "#set union\n",
    "s2={3,5,6,8,9,0,2,3,4,6,77}\n",
    "s3={4,5,8,9,0,3,4,5,6}\n",
    "s4=s2.union(s3)#dds s3 and s2\n",
    "s5=s2.intersection(s3)#\n",
    "s6=s2.intersection(s3)\n",
    "print(s5)\n",
    "print(s4)\n",
    "print(s6)\n",
    "s1.clear()\n",
    "print(s1)"
   ]
  },
  {
   "cell_type": "code",
   "execution_count": null,
   "metadata": {},
   "outputs": [
    {
     "name": "stdout",
     "output_type": "stream",
     "text": [
      "15\n"
     ]
    }
   ],
   "source": [
    "#python  module\n",
    "def add(x,y):\n",
    "    z=(x+y)\n",
    "    print(z)\n",
    "add(10,5)\n",
    "    "
   ]
  },
  {
   "cell_type": "code",
   "execution_count": null,
   "metadata": {},
   "outputs": [
    {
     "name": "stdout",
     "output_type": "stream",
     "text": [
      "MSMAHAMMADYOUSUF\n",
      "msmahammadyousuf\n",
      "Msmahammadyousuf\n"
     ]
    }
   ],
   "source": [
    "#case changibg of stringss\n",
    "#uuper(),lower(),title()\n",
    "str=\"msmahammadyousuf\"\n",
    "print(str.upper())\n",
    "print(str.lower())\n",
    "print(str.title())\n"
   ]
  },
  {
   "cell_type": "code",
   "execution_count": null,
   "metadata": {},
   "outputs": [
    {
     "name": "stdout",
     "output_type": "stream",
     "text": [
      "char is number\n"
     ]
    }
   ],
   "source": [
    "#type of charcter s entered by uisng string\n",
    "ch=input(\"enter character\")\n",
    "if ch.isalnum():\n",
    "    print(\"char is number\")\n",
    "elif ch.isalpha():\n",
    "   print(\"char is word\")\n",
    "elif ch.isdecimal():\n",
    "    print(\"is decimal\")\n",
    "else:\n",
    "    print(\"special character\")\n"
   ]
  },
  {
   "cell_type": "code",
   "execution_count": null,
   "metadata": {},
   "outputs": [
    {
     "name": "stdout",
     "output_type": "stream",
     "text": [
      "core pythoncore python\n",
      "pythonpython\n",
      "core python hi man\n"
     ]
    }
   ],
   "source": [
    "#repating string\n",
    "str=\"core python\"\n",
    "print(str *2)\n",
    "print(str[5: ]*2)\n",
    "#concate\n",
    "str1=\" hi man\"\n",
    "str2=str+str1\n",
    "print(str2)"
   ]
  },
  {
   "cell_type": "code",
   "execution_count": null,
   "metadata": {},
   "outputs": [
    {
     "name": "stdout",
     "output_type": "stream",
     "text": [
      "6\n",
      "y o u s u f f u s u o y "
     ]
    }
   ],
   "source": [
    "#forword and reverse order using string\n",
    "s=\"yousuf\"\n",
    "n=len(s)\n",
    "print(n)\n",
    "i=0\n",
    "while i<n:\n",
    "    print(s[i],end= \" \" )\n",
    "    i=i+1\n",
    "i=-1\n",
    "while i >=-n:\n",
    "    print(s[i], end= \" \")\n",
    "    i=i-1\n"
   ]
  },
  {
   "cell_type": "code",
   "execution_count": null,
   "metadata": {},
   "outputs": [
    {
     "name": "stdout",
     "output_type": "stream",
     "text": [
      "yes\n",
      "no\n",
      "pranm   bsbsbd ms a hsb\n",
      "pranm   bsbsbd ms a hsb\n",
      "pranm   bsbsbd ms a hsb\n"
     ]
    }
   ],
   "source": [
    "#checking memebrship\n",
    "str=\"annamacharya\"\n",
    "s=\"acharya\"\n",
    "if s in str:\n",
    "    print(\"yes\")\n",
    "# identity operation\n",
    "if s is  str:\n",
    "    print(\"yes\")\n",
    "else:\n",
    "    print(\"no\")\n",
    "#removing spaces\n",
    "t= \"pranm   bsbsbd ms a hsb\"\n",
    "print(t.rstrip())\n",
    "print(t.lstrip())\n",
    "print(t.strip())\n"
   ]
  },
  {
   "cell_type": "code",
   "execution_count": null,
   "metadata": {},
   "outputs": [
    {
     "name": "stdout",
     "output_type": "stream",
     "text": [
      "7\n",
      "-1\n",
      "not found\n"
     ]
    }
   ],
   "source": [
    "#first occurance of a substring to a main string\n",
    "s1=\"annamacharya institute of technology\"\n",
    "s2=\"institute\"\n",
    "n=len(s)\n",
    "print(n)\n",
    "n1=s1.find(s2,0,n-1)\n",
    "print(n1)\n",
    "if n1==-1:\n",
    "    print(\"not found\")\n",
    "else:\n",
    "    print(\"found\")"
   ]
  },
  {
   "cell_type": "code",
   "execution_count": null,
   "metadata": {},
   "outputs": [
    {
     "name": "stdout",
     "output_type": "stream",
     "text": [
      "['she', 'is', 'cute']\n",
      "she*is*cute\n",
      "['hellomadamhowareu']\n",
      "she is cute\n"
     ]
    }
   ],
   "source": [
    "#splitting and joining the string\n",
    "str= \"she is cute\"\n",
    "str1=\"hellomadamhowareu\"\n",
    "print(str.split())\n",
    "print(\"*\".join(str.split()))\n",
    "print(str1.split())\n",
    "print(str)"
   ]
  },
  {
   "cell_type": "code",
   "execution_count": 50,
   "metadata": {},
   "outputs": [
    {
     "name": "stdout",
     "output_type": "stream",
     "text": [
      "found 3\n"
     ]
    }
   ],
   "source": [
    "#search for the position of the string\n",
    "str=[]\n",
    "n=int(input(\"size\"))\n",
    "for i in range (0,n):\n",
    "    x=int(input(\"enter number\"))\n",
    "    str.append(x)\n",
    "str1=int(input(\"the value is\"))\n",
    "flag=0\n",
    "for i in range(0,n):\n",
    "    if str1 == str[i]:\n",
    "        print(\"found\",i+1)\n",
    "        break\n",
    "else:\n",
    "    print(\"not found\")\n"
   ]
  },
  {
   "cell_type": "code",
   "execution_count": null,
   "metadata": {},
   "outputs": [
    {
     "name": "stdout",
     "output_type": "stream",
     "text": [
      "49\n",
      "11\n"
     ]
    }
   ],
   "source": [
    "#find no of character and no  of strings in a string\n",
    "s= \"hi this is yousuf how are man where u went for it\"\n",
    "n=len(s)\n",
    "ccount=0\n",
    "wcount=0\n",
    "for i in range (0,n):\n",
    "    ccount=ccount+1\n",
    "    if s[i]==' ':\n",
    "        wcount=wcount+1\n",
    "print(ccount)\n",
    "print(wcount)"
   ]
  },
  {
   "cell_type": "code",
   "execution_count": null,
   "metadata": {},
   "outputs": [
    {
     "data": {
      "text/plain": [
       "13"
      ]
     },
     "metadata": {},
     "output_type": "display_data"
    },
    {
     "data": {
      "text/plain": [
       "56"
      ]
     },
     "metadata": {},
     "output_type": "display_data"
    },
    {
     "name": "stdout",
     "output_type": "stream",
     "text": [
      "None\n"
     ]
    }
   ],
   "source": [
    "#python encapsulation\n",
    "class person:\n",
    "    def __init__(self,value,age=0):\n",
    "        self.age=age\n",
    "        self.value=value\n",
    "    def display():\n",
    "        print(self.age)\n",
    "        print(self.value)\n",
    "p=display(13,56)\n",
    "print(p)\n",
    "\n",
    "        "
   ]
  },
  {
   "cell_type": "code",
   "execution_count": null,
   "metadata": {},
   "outputs": [
    {
     "name": "stdout",
     "output_type": "stream",
     "text": [
      "50\n",
      "147\n"
     ]
    }
   ],
   "source": [
    "#method overloading not this\n",
    "#def sum(a,b):\n",
    " #c=a+b\n",
    "  #  print(c)\n",
    "#def sum(a,b,d):\n",
    " #   e=a+b+d\n",
    "  #  print(e)\n",
    "#sum(10,40)\n",
    "#sum(59,78,67)\n",
    "#this\n",
    "def sum(*args):\n",
    "    if len(args) == 2:\n",
    "        a, b = args\n",
    "        c = a + b\n",
    "        print(c)\n",
    "    elif len(args) == 3:\n",
    "        a, b, d = args\n",
    "        e = a + b + d\n",
    "        print(e)\n",
    "    else:\n",
    "        print(\"Invalid number of arguments\")\n",
    "\n",
    "sum(10, 40)\n",
    "sum(59, 78, 10) #"
   ]
  },
  {
   "cell_type": "code",
   "execution_count": null,
   "metadata": {},
   "outputs": [
    {
     "name": "stdout",
     "output_type": "stream",
     "text": [
      "30\n",
      "44\n",
      "85\n"
     ]
    }
   ],
   "source": [
    "#this is also method overlaoding by using args we dont have method overlaoding in python\n",
    "def sum (*args):\n",
    "    result=0\n",
    "    for i in args:\n",
    "        result=result+i\n",
    "    print(result)    \n",
    "sum(10,20)\n",
    "sum(30,3,4,3,4)\n",
    "sum(56,6,7,9,7)\n"
   ]
  },
  {
   "cell_type": "code",
   "execution_count": 54,
   "metadata": {},
   "outputs": [
    {
     "name": "stdout",
     "output_type": "stream",
     "text": [
      "hello\n",
      "employee_id is 1234\n"
     ]
    }
   ],
   "source": [
    "#abstract\n",
    "from abc import ABC , abstractmethod\n",
    "class employee(ABC):\n",
    "    def emp_id(self,id):\n",
    "        print(\"hello\")\n",
    "        pass\n",
    "class child(employee):\n",
    "    def emp_id(self,id):\n",
    "        print(\"employee_id is 1234\")\n",
    "emp1=child()\n",
    "emp2=employee()\n",
    "\n",
    "emp2.emp_id(id)\n",
    "emp1.emp_id(id)\n",
    "\n"
   ]
  },
  {
   "cell_type": "code",
   "execution_count": null,
   "metadata": {},
   "outputs": [
    {
     "name": "stdout",
     "output_type": "stream",
     "text": [
      "aits 516163\n"
     ]
    }
   ],
   "source": [
    "#class and object variables\n",
    "x=10\n",
    "class person:\n",
    "    def __init__(self):\n",
    "        self.name=\"aits\"\n",
    "        self.pin=(516163)\n",
    "    def fun(self):\n",
    "        print(self.name,self.pin)\n",
    "e=person()\n",
    "e.fun()\n"
   ]
  },
  {
   "cell_type": "code",
   "execution_count": null,
   "metadata": {},
   "outputs": [
    {
     "name": "stdout",
     "output_type": "stream",
     "text": [
      "this os text\n",
      "this os a textt word which is used for dta for the ones again\n"
     ]
    }
   ],
   "source": [
    "#static variables and static method\n",
    "class staticvar:\n",
    "    def random(e):\n",
    "        print(e)\n",
    "        print(\"this os a textt word which is used for dta for the ones again\")\n",
    "staticvar.random=staticmethod(staticvar.random)\n",
    "staticvar.random(\"this os text\")\n",
    "\n",
    "\n"
   ]
  },
  {
   "cell_type": "code",
   "execution_count": null,
   "metadata": {},
   "outputs": [
    {
     "name": "stdout",
     "output_type": "stream",
     "text": [
      "hello man\n",
      "hi bro\n",
      "hello amn hoe are u\n"
     ]
    }
   ],
   "source": [
    "#super():\n",
    "#to implement super ()keyword in the progarm\n",
    "class parent:\n",
    "    def __init__(self,txt):\n",
    "        self.message=txt\n",
    "        print(\"hello man\")\n",
    "    def display(self):\n",
    "        print(self.message)\n",
    "class child(parent):\n",
    "    def __init__(self,txt):\n",
    "        super().__init__(txt)\n",
    "        print(\"hi bro\")\n",
    "x=child(\"hello amn hoe are u\")\n",
    "x.display()"
   ]
  },
  {
   "cell_type": "code",
   "execution_count": null,
   "metadata": {},
   "outputs": [
    {
     "name": "stdout",
     "output_type": "stream",
     "text": [
      "2\n",
      "3\n",
      "5\n",
      "7\n",
      "11\n",
      "13\n"
     ]
    }
   ],
   "source": [
    "\n",
    "\n",
    "#prime prime numbers between a and b using while and for loop if b is less than a then print provide valid input\n",
    "def prime_numbers(a, b):\n",
    "    if a < 1 or b < 1 or a > b:\n",
    "        print(\"Provide valid input\")\n",
    "        return\n",
    "    for i in range(a, b+1):\n",
    "        if i == 1:\n",
    "            continue\n",
    "        j = 2\n",
    "        is_prime = True\n",
    "        while j  *j<= i:\n",
    "            if i % j == 0:\n",
    "                is_prime = False\n",
    "                break\n",
    "            j += 1\n",
    "        if is_prime:\n",
    "            print(i)\n",
    "a = int(input())\n",
    "b = int(input())\n",
    "prime_numbers(a, b)"
   ]
  },
  {
   "cell_type": "code",
   "execution_count": null,
   "metadata": {},
   "outputs": [
    {
     "name": "stdout",
     "output_type": "stream",
     "text": [
      "hello word this is dad\n",
      "this is son\n"
     ]
    }
   ],
   "source": [
    "#single inheritence\n",
    "class dad:\n",
    "    def fun1(self):\n",
    "        print(\"hello word this is dad\")\n",
    "class son(dad):\n",
    "    def fun2 (t):# we need to provide argument here\n",
    "        print(\"this is son\")\n",
    "p=son()# from son we call both but data we cant call in single inheritence\n",
    "p.fun1()\n",
    "p.fun2()"
   ]
  },
  {
   "cell_type": "code",
   "execution_count": 22,
   "metadata": {},
   "outputs": [
    {
     "name": "stdout",
     "output_type": "stream",
     "text": [
      "maximum screens ste to 7 in premium plan\n"
     ]
    }
   ],
   "source": [
    "#single inheritence \n",
    "class ottplatform:\n",
    "    def __init__(self,subcription_id,plan,total_payment):\n",
    "        self.id=subcription_id\n",
    "        self.plan=plan\n",
    "        self.total_payment=total_payment\n",
    "    def subscribe(self):\n",
    "        print(f\"subsciption {self.id} is done and id is subsribed to self .plan{self.plan} and total payment is {self.total_payment}\")\n",
    "    def unsubscribe(self):\n",
    "        print(f\"unsubsciption {self.id} is done and id is subsribed to self .plan{self.plan} and total payment is {self.total_payment}\")\n",
    "class premiumsubscribe(ottplatform):\n",
    "    def __init__(self,subcription_id,plan,total_payment,screens):\n",
    "        #no need again assianing the values all like \n",
    "        #  self.subcription_id=subcription_id,self paln ,self,total payment \n",
    "        super().__init__(subcription_id,plan,total_payment)\n",
    "        self.screens=screens\n",
    "    #def subscribe(self):\n",
    "     #   print(f\"subsciption if{self.id} is done and id is subsribed to self .plan{self.plan} and total payment is {self.total_payment} and premiun plan is {self.screens}\")\n",
    "    #def unsubscribe(self):\n",
    "     #   print(f\"unsubsciption if{self.id} is done and id is subsribed to self .plan{self.plan} and total payment is {self.total_payment} and premiun plan is {self.screens}\")\n",
    "    def set_max_screens(self,screens):\n",
    "        self.max_screens=screens\n",
    "        print(f\"maximum screens ste to {self.max_screens} in premium plan\")\n",
    "cp=premiumsubscribe(1234,\"premium\",500,50)\n",
    "cp.set_max_screens(7)\n",
    "\n",
    "    "
   ]
  },
  {
   "cell_type": "code",
   "execution_count": 5,
   "metadata": {},
   "outputs": [
    {
     "name": "stdout",
     "output_type": "stream",
     "text": [
      "this is mom\n",
      "this is son\n"
     ]
    }
   ],
   "source": [
    "#multiple inheritence\n",
    "# a and b provide property to c\n",
    "class dad:\n",
    "    def f1(self):\n",
    "        return \"this is dad\"\n",
    "class mom:\n",
    "    def f2(svt):\n",
    "        return \"this is mom\"\n",
    "class son(dad,mom ):\n",
    "    def f3(s):\n",
    "        super().f1()\n",
    "        return \"this is son\"\n",
    "ob=son()\n",
    "\n",
    "print(ob.f2())\n",
    "print(ob.f3())\n"
   ]
  },
  {
   "cell_type": "code",
   "execution_count": 6,
   "metadata": {},
   "outputs": [
    {
     "name": "stdout",
     "output_type": "stream",
     "text": [
      "yousuf\n",
      "yousuf\n",
      "usuf\n",
      "maha\n"
     ]
    }
   ],
   "source": [
    "#multi level inheritence\n",
    "# a gets from b and c gets from b and a\n",
    "class grandfather:\n",
    "    def __init__(self,grandfather):\n",
    "        self.grandfather=grandfather\n",
    "class dad(grandfather):\n",
    "    def __init__(self,dad,grandfather):\n",
    "       super(). __init__(grandfather)\n",
    "       self.dad=dad\n",
    "class son(dad):\n",
    "    def __init__(self,son ,dad,grandfather):\n",
    "        self.son=son\n",
    "        super(). __init__(dad,grandfather)\n",
    "    def print(self):\n",
    "        print(self.grandfather)\n",
    "        print(self.dad)\n",
    "        print(self.son)\n",
    "ob=son(\"maha\",\"usuf\",\"yousuf\")\n",
    "print(ob.grandfather)\n",
    "ob.print()\n"
   ]
  },
  {
   "cell_type": "code",
   "execution_count": null,
   "metadata": {},
   "outputs": [
    {
     "name": "stdout",
     "output_type": "stream",
     "text": [
      "this is dad\n",
      "this is daughter\n",
      "this is son\n"
     ]
    }
   ],
   "source": [
    "#hierarchial inheritence\n",
    "class dad:\n",
    "    def fun1(self):\n",
    "        print(\"this is dad\")\n",
    "class son(dad):\n",
    "    def fun2(self):\n",
    "        print(\"this is son\")\n",
    "class daughter(dad):\n",
    "    def fun3(self):\n",
    "        print(\"this is daughter\")\n",
    "p=daughter()\n",
    "p.fun1()\n",
    "p.fun3()\n",
    "p=son()\n",
    "p.fun1()\n",
    "p.fun2()\n"
   ]
  },
  {
   "cell_type": "code",
   "execution_count": null,
   "metadata": {},
   "outputs": [
    {
     "name": "stdout",
     "output_type": "stream",
     "text": [
      "this is son\n",
      "this is dad\n",
      "this is mom\n",
      "this is daughter\n",
      "this is dad\n"
     ]
    }
   ],
   "source": [
    "#hybrid inheritence\n",
    "class dad:\n",
    "    def fun1(self):\n",
    "        print(\"this is dad\")\n",
    "class mom:\n",
    "    def fun2(self):\n",
    "        print(\"this is mom\")\n",
    "class son(dad,mom):\n",
    "    def fun3(self):\n",
    "        print(\"this is son\")\n",
    "class daughter(dad):\n",
    "    def fun4(self):\n",
    "        print(\"this is daughter\")\n",
    "class grandson(son,daughter):\n",
    "    def fun5(self):\n",
    "        print(\"this is grandson\")\n",
    "p=son()\n",
    "p.fun3()\n",
    "p.fun1()\n",
    "p.fun2()\n",
    "p=daughter()\n",
    "p.fun4()\n",
    "p.fun1()\n"
   ]
  },
  {
   "cell_type": "code",
   "execution_count": null,
   "metadata": {},
   "outputs": [
    {
     "name": "stdout",
     "output_type": "stream",
     "text": [
      "4\n",
      "8\n",
      "4\n",
      "8\n"
     ]
    }
   ],
   "source": [
    "#method overloading same name with different parameters\n",
    "def fun(*args):\n",
    "    result=0\n",
    "    for i in args:\n",
    "        result=result +i\n",
    "        print(result)\n",
    "fun(4,4)\n",
    "fun(4,4)\n",
    "\n",
    "\n"
   ]
  },
  {
   "cell_type": "code",
   "execution_count": 55,
   "metadata": {},
   "outputs": [
    {
     "name": "stdout",
     "output_type": "stream",
     "text": [
      "inside child\n",
      "inside child\n"
     ]
    }
   ],
   "source": [
    "\n",
    "# Method overriding\n",
    "class Parents:\n",
    "    def __init__(self):\n",
    "        self.value = \"parents\"\n",
    "    \n",
    "    def show(self):\n",
    "        print(self.value)\n",
    "\n",
    "class Son(Parents):\n",
    "    def __init__(self):\n",
    "        super().__init__()  # Initialize the parent class\n",
    "        self.value = \"inside child\"\n",
    "    \n",
    "    def show(self):\n",
    "        super().show()  # Call the parent class's show method\n",
    "        print(self.value)\n",
    "\n",
    "s=Son()\n",
    "s.show()\n",
    "\n",
    "\n",
    "\n"
   ]
  },
  {
   "cell_type": "code",
   "execution_count": 71,
   "metadata": {},
   "outputs": [
    {
     "name": "stdout",
     "output_type": "stream",
     "text": [
      "15\n",
      "3953\n",
      "28\n",
      "32\n"
     ]
    }
   ],
   "source": [
    "#lamda expressions\n",
    "#it is an aninimous function\n",
    "#paremeter:expresion\n",
    "x=lambda a :a+10\n",
    "print(x(5))\n",
    "#it takes any no f arguments\n",
    "x =lambda a , b: a * b\n",
    "print(x(59,67))\n",
    "# use functions which can work with annonymous functions\n",
    "def fun(n):\n",
    "    return lambda a:a*n\n",
    "m=fun(3)\n",
    "m=fun(4)\n",
    "print(m(7))\n",
    "print(m(8))"
   ]
  },
  {
   "cell_type": "code",
   "execution_count": null,
   "metadata": {},
   "outputs": [
    {
     "name": "stdout",
     "output_type": "stream",
     "text": [
      "error occurs\n"
     ]
    }
   ],
   "source": [
    "# try except else finally in exceptions\n",
    "try:\n",
    "    print(u)\n",
    "except:\n",
    "    print(\"error occurs\")"
   ]
  },
  {
   "cell_type": "code",
   "execution_count": null,
   "metadata": {},
   "outputs": [
    {
     "name": "stdout",
     "output_type": "stream",
     "text": [
      "hi\n"
     ]
    }
   ],
   "source": [
    "try:\n",
    "    print(z)\n",
    "except IndexError:\n",
    "    print(\"hello\")\n",
    "except:\n",
    "    print(\"hi\")\n",
    "else:\n",
    "    \"hello world \""
   ]
  },
  {
   "cell_type": "code",
   "execution_count": 73,
   "metadata": {},
   "outputs": [
    {
     "name": "stdout",
     "output_type": "stream",
     "text": [
      "this is nothing\n"
     ]
    }
   ],
   "source": [
    "try:\n",
    "    f=open(\"ope.txt\",\"r\")\n",
    "    f.close()\n",
    "    print(f)\n",
    "    try:\n",
    "        f=write(\"kdhdfhj\")\n",
    "    except:\n",
    "        print(\"hi\")\n",
    "        f.close()\n",
    "except:\n",
    "    print(\"this is nothing\")"
   ]
  },
  {
   "cell_type": "code",
   "execution_count": null,
   "metadata": {},
   "outputs": [
    {
     "ename": "Exception",
     "evalue": "sory man how ra hhbdvbvcxb,bhvcxnv,hvchv,cnvv,vncnvjckjvn",
     "output_type": "error",
     "traceback": [
      "\u001b[1;31m---------------------------------------------------------------------------\u001b[0m",
      "\u001b[1;31mException\u001b[0m                                 Traceback (most recent call last)",
      "Cell \u001b[1;32mIn[41], line 3\u001b[0m\n\u001b[0;32m      1\u001b[0m x\u001b[38;5;241m=\u001b[39m\u001b[38;5;241m-\u001b[39m\u001b[38;5;241m1\u001b[39m\n\u001b[0;32m      2\u001b[0m \u001b[38;5;28;01mif\u001b[39;00m x \u001b[38;5;241m<\u001b[39m\u001b[38;5;241m0\u001b[39m :\n\u001b[1;32m----> 3\u001b[0m     \u001b[38;5;28;01mraise\u001b[39;00m \u001b[38;5;167;01mException\u001b[39;00m(\u001b[38;5;124m\"\u001b[39m\u001b[38;5;124msory man how ra hhbdvbvcxb,bhvcxnv,hvchv,cnvv,vncnvjckjvn\u001b[39m\u001b[38;5;124m\"\u001b[39m)\n",
      "\u001b[1;31mException\u001b[0m: sory man how ra hhbdvbvcxb,bhvcxnv,hvchv,cnvv,vncnvjckjvn"
     ]
    }
   ],
   "source": [
    "x=-1\n",
    "if x <0 :\n",
    "    raise Exception(\"sory man how ra hhbdvbvcxb,bhvcxnv,hvchv,cnvv,vncnvjckjvn\")\n",
    "      "
   ]
  },
  {
   "cell_type": "code",
   "execution_count": 74,
   "metadata": {},
   "outputs": [
    {
     "name": "stdout",
     "output_type": "stream",
     "text": [
      "hello world code\n"
     ]
    }
   ],
   "source": [
    "#file handling\n",
    "f=open(\"open.txt\",\"w\")\n",
    "f.write(\"hello world code\")# it errase previous \n",
    "f.close()\n",
    "f=open(\"open.txt\",\"r\")\n",
    "print(f.read())\n",
    "f.close()\n",
    "f=open(\"open.txt\",\"a\")# it add with previous one\n",
    "f.write(\"hello world code we are going to data and the famous world which arrives the data which the function becomes the challenge in the data\")\n",
    "f.close()\n"
   ]
  },
  {
   "cell_type": "code",
   "execution_count": 90,
   "metadata": {},
   "outputs": [
    {
     "name": "stdout",
     "output_type": "stream",
     "text": [
      "hello world code\n"
     ]
    }
   ],
   "source": [
    "#file handling\n",
    "f=open(\"op.txt\",\"w\")\n",
    "f.write(\"hello world code\")# it errase previous \n",
    "f.close()\n",
    "f=open(\"op.txt\",\"r\")\n",
    "print(f.read())\n",
    "f.close()\n",
    "f=open(\"op.txt\",\"a\")# it add with previous one\n",
    "f.write(\"hello world code we are going to data and the famous world which arrives the data which the function becomes the challenge in the data\")\n",
    "f.close()\n"
   ]
  },
  {
   "cell_type": "code",
   "execution_count": null,
   "metadata": {},
   "outputs": [
    {
     "ename": "",
     "evalue": "",
     "output_type": "error",
     "traceback": [
      "\u001b[1;31mRunning cells with 'Python 3.11.4' requires the ipykernel package.\n",
      "\u001b[1;31mRun the following command to install 'ipykernel' into the Python environment. \n",
      "\u001b[1;31mCommand: 'c:/Users/msmah/AppData/Local/Programs/Python/Python311/python.exe -m pip install ipykernel -U --user --force-reinstall'"
     ]
    }
   ],
   "source": [
    "#delete file\n",
    "import os   \n",
    "os.remove(\"open.txt\")\n",
    "print(\"file removed\")\n"
   ]
  },
  {
   "cell_type": "code",
   "execution_count": 76,
   "metadata": {},
   "outputs": [
    {
     "name": "stdout",
     "output_type": "stream",
     "text": [
      "file not there\n"
     ]
    }
   ],
   "source": [
    "if os.path.exists(\"open.txt\"):\n",
    "    os.remove(\"open.txt\")\n",
    "else:\n",
    "    print(\"file not there\")\n"
   ]
  },
  {
   "cell_type": "code",
   "execution_count": 92,
   "metadata": {},
   "outputs": [
    {
     "name": "stdout",
     "output_type": "stream",
     "text": [
      "5.0\n",
      "32.0\n",
      "3.141592653589793\n",
      "2.718281828459045\n",
      "120\n",
      "6\n",
      "5\n",
      "2.302585092994046\n"
     ]
    }
   ],
   "source": [
    "#MATH\n",
    "import math\n",
    "print(math.sqrt(25))\n",
    "print(math.pow(2,5))\n",
    "print(math.pi)\n",
    "print(math.e)\n",
    "print(math.factorial(5))\n",
    "print(math.ceil(5.6))\n",
    "print(math.floor(5.6))\n",
    "print(math.log(10))\n",
    "\n"
   ]
  },
  {
   "cell_type": "code",
   "execution_count": 6,
   "metadata": {},
   "outputs": [
    {
     "name": "stdout",
     "output_type": "stream",
     "text": [
      "{\"name\": \"yousuf\", \"age\": 20, \"city\": \"kadapa\"}\n",
      "{'name': 'yousuf', 'age': 20, 'city': 'kadapa'}\n",
      "{\n",
      "          \"name\": \"yousuf\",\n",
      "          \"age\": 20,\n",
      "          \"city\": \"kadapa\"\n",
      "}\n"
     ]
    }
   ],
   "source": [
    "#json\n",
    "import json\n",
    "x={\"name\":\"yousuf\",\"age\":20,\"city\":\"kadapa\"}\n",
    "y=json.dumps(x)\n",
    "print(y)\n",
    "print(json.loads(y))\n",
    "print(json.dumps({\"name\":\"yousuf\",\"age\":20,\"city\":\"kadapa\"},indent=10))\n",
    "\n",
    "\n"
   ]
  },
  {
   "cell_type": "code",
   "execution_count": 99,
   "metadata": {},
   "outputs": [
    {
     "name": "stdout",
     "output_type": "stream",
     "text": [
      "yes\n",
      "['world']\n"
     ]
    }
   ],
   "source": [
    "#regex\n",
    "import re\n",
    "str=\"hello world\"\n",
    "x=re.search(\"world\",str)\n",
    "if x:\n",
    "    print(\"yes\")\n",
    "else:\n",
    "    print(\"no\")\n",
    "x=re.findall(\"world\",str)\n",
    "print(x)\n",
    "\n"
   ]
  },
  {
   "cell_type": "code",
   "execution_count": 7,
   "metadata": {},
   "outputs": [
    {
     "name": "stdout",
     "output_type": "stream",
     "text": [
      "Enter the original grid (4 rows of 4 integers each):\n",
      "[[4], [1, 2, 3, 4], [1, 2, 3, 4], [1, 2, 3, 4]]\n"
     ]
    }
   ],
   "source": [
    " #  original_grid = [list(map(int, input().split())) for _ in range(4)] (or)\n",
    "original_grid = []\n",
    "print(\"Enter the original grid (4 rows of 4 integers each):\")\n",
    "for i in range(4):\n",
    "    row = list(map(int, input().split()))\n",
    "\n",
    "    original_grid.append(row)\n",
    "print(original_grid )\n",
    "   "
   ]
  }
 ],
 "metadata": {
  "kernelspec": {
   "display_name": "Python 3",
   "language": "python",
   "name": "python3"
  },
  "language_info": {
   "codemirror_mode": {
    "name": "ipython",
    "version": 3
   },
   "file_extension": ".py",
   "mimetype": "text/x-python",
   "name": "python",
   "nbconvert_exporter": "python",
   "pygments_lexer": "ipython3",
   "version": "3.11.4"
  }
 },
 "nbformat": 4,
 "nbformat_minor": 2
}
