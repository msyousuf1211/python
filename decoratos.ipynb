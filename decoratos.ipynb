{
 "cells": [
  {
   "cell_type": "code",
   "execution_count": null,
   "metadata": {},
   "outputs": [
    {
     "name": "stdout",
     "output_type": "stream",
     "text": [
      " transaction is started\n",
      "executing all steps\n",
      "transaction is completed\n"
     ]
    }
   ],
   "source": [
    "# this is a decorator where we can decorate the between function which have between them  so we decorate it by using this nmethod and another method using @ decorator\n",
    "def decorator(func):\n",
    "    def wrapper():\n",
    "        print(\" transaction is started\")\n",
    "        func()\n",
    "        print(\"transaction is completed\")\n",
    "    return wrapper\n",
    "def hello():\n",
    "    print(\"executing all steps\")\n",
    "hello1=decorator(hello)\n",
    "hello1()   \n"
   ]
  },
  {
   "cell_type": "code",
   "execution_count": 4,
   "metadata": {},
   "outputs": [
    {
     "name": "stdout",
     "output_type": "stream",
     "text": [
      " transaction is started\n",
      "executing all steps\n",
      "transaction is completed\n"
     ]
    }
   ],
   "source": [
    "def decorator(func):\n",
    "    def wrapper():\n",
    "        print(\" transaction is started\")\n",
    "        func()\n",
    "        print(\"transaction is completed\")\n",
    "    return wrapper\n",
    "@decorator\n",
    "def hello():\n",
    "    print(\"executing all steps\")\n",
    "hello()\n",
    " "
   ]
  }
 ],
 "metadata": {
  "kernelspec": {
   "display_name": "Python 3",
   "language": "python",
   "name": "python3"
  },
  "language_info": {
   "codemirror_mode": {
    "name": "ipython",
    "version": 3
   },
   "file_extension": ".py",
   "mimetype": "text/x-python",
   "name": "python",
   "nbconvert_exporter": "python",
   "pygments_lexer": "ipython3",
   "version": "3.13.1"
  }
 },
 "nbformat": 4,
 "nbformat_minor": 2
}
