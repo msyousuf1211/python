{
 "cells": [
  {
   "cell_type": "code",
   "execution_count": 1,
   "metadata": {},
   "outputs": [
    {
     "data": {
      "text/plain": [
       "13"
      ]
     },
     "metadata": {},
     "output_type": "display_data"
    },
    {
     "data": {
      "text/plain": [
       "56"
      ]
     },
     "metadata": {},
     "output_type": "display_data"
    },
    {
     "name": "stdout",
     "output_type": "stream",
     "text": [
      "None\n"
     ]
    }
   ],
   "source": [
    "#python encapsulation not this here it is not a private code for private we need to take self.__age\n",
    "#we take two underscores\n",
    "class person:\n",
    "    def __init__(self,value,age=0):\n",
    "        self.age=age\n",
    "        self.value=value\n",
    "    def display():\n",
    "        print(self.age)\n",
    "        print(self.value)\n",
    "p=person(10,20)\n",
    "p=display(13,56)\n",
    "print(p)\n",
    "\n",
    "\n"
   ]
  },
  {
   "cell_type": "code",
   "execution_count": 2,
   "metadata": {},
   "outputs": [
    {
     "name": "stdout",
     "output_type": "stream",
     "text": [
      "Age: 13\n",
      "Value: 56\n",
      "Updated Age: 25\n"
     ]
    }
   ],
   "source": [
    "#python encapsulation \n",
    "# encapsulation is a concept of wrapping data and methods into a single unit\n",
    "# it restricts direct access to some of the object’s components\n",
    "class Person:\n",
    "    def __init__(self, value, age=0):\n",
    "        self.__age = age  # Private attribute\n",
    "        self.__value = value  # Private attribute\n",
    "\n",
    "    def display(self):\n",
    "        print(\"Age:\", self.__age)\n",
    "        print(\"Value:\", self.__value)\n",
    "\n",
    "    def set_age(self, age):\n",
    "        if age > 0:  # Validation for age\n",
    "            self.__age = age\n",
    "        else:\n",
    "            print(\"Invalid age\")\n",
    "\n",
    "    def get_age(self):\n",
    "        return self.__age\n",
    "\n",
    "# Create an instance of the Person class\n",
    "p = Person(56, 13)\n",
    "\n",
    "# Access and modify private attributes using methods\n",
    "p.display()\n",
    "p.set_age(25)  # Update age using setter\n",
    "print(\"Updated Age:\", p.get_age())  # Access age using getter\n"
   ]
  }
 ],
 "metadata": {
  "kernelspec": {
   "display_name": "Python 3",
   "language": "python",
   "name": "python3"
  },
  "language_info": {
   "codemirror_mode": {
    "name": "ipython",
    "version": 3
   },
   "file_extension": ".py",
   "mimetype": "text/x-python",
   "name": "python",
   "nbconvert_exporter": "python",
   "pygments_lexer": "ipython3",
   "version": "3.11.4"
  }
 },
 "nbformat": 4,
 "nbformat_minor": 2
}
