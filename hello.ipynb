{
 "cells": [
  {
   "cell_type": "code",
   "execution_count": 6,
   "metadata": {},
   "outputs": [],
   "source": [
    "#print uniqe values\n",
    "t=[3,4,5,6,7,5,4,6,7]\n",
    "uniqe=list(set(t))\n"
   ]
  },
  {
   "cell_type": "code",
   "execution_count": 7,
   "metadata": {},
   "outputs": [
    {
     "name": "stdout",
     "output_type": "stream",
     "text": [
      "4\n",
      "5\n",
      "6\n",
      "7\n",
      "7\n",
      "8\n",
      "8\n"
     ]
    }
   ],
   "source": [
    " #number -1 print\n",
    "lst=[5,6,7,8,8,9,9,]\n",
    "for i in lst:\n",
    "    u=i-1\n",
    "    print(u)\n",
    "\n",
    "\n",
    "\n",
    "#no=[4,5, 6,7,6, 7, 8]\n",
    "#r=[x-1 for x in lst]"
   ]
  },
  {
   "cell_type": "code",
   "execution_count": 10,
   "metadata": {},
   "outputs": [
    {
     "name": "stdout",
     "output_type": "stream",
     "text": [
      "[1, 3, 5, 7, 9, 11, 13, 15, 17, 19, 21, 23, 25, 27, 29, 31, 33, 35, 37, 39, 41, 43, 45, 47, 49, 51, 53, 55, 57, 59, 61, 63, 65, 67, 69, 71, 73, 75, 77, 79, 81, 83, 85, 87, 89, 91, 93, 95, 97, 99] \n",
      "\n"
     ]
    }
   ],
   "source": [
    "#printing odd numbers\n",
    "#od=101\n",
    "#for i in range(od):\n",
    " #   if i%2 != 0:\n",
    "  #      print(i)\n",
    "od =[i for i in range (100) if i %2 != 0]\n",
    "print(od,)\n"
   ]
  },
  {
   "cell_type": "code",
   "execution_count": 11,
   "metadata": {},
   "outputs": [
    {
     "name": "stdout",
     "output_type": "stream",
     "text": [
      "right?\n"
     ]
    }
   ],
   "source": [
    "#accessing attribute of the function\n",
    "def my_fun():\n",
    "    print(my_fun.data['what'])\n",
    "my_fun.data={'what':\"right?\"}\n",
    "my_fun()\n"
   ]
  },
  {
   "cell_type": "code",
   "execution_count": 12,
   "metadata": {},
   "outputs": [
    {
     "name": "stdout",
     "output_type": "stream",
     "text": [
      "3\n",
      "3\n",
      "4\n",
      "4\n"
     ]
    }
   ],
   "source": [
    "r=7&3\n",
    "print(r)\n",
    "r1=3&7\n",
    "print(r1)\n",
    "r=7^3\n",
    "print(r)\n",
    "r1=3^7\n",
    "print(r1)\n"
   ]
  },
  {
   "cell_type": "code",
   "execution_count": 1,
   "metadata": {},
   "outputs": [
    {
     "name": "stdout",
     "output_type": "stream",
     "text": [
      "hello world\n"
     ]
    }
   ],
   "source": [
    "# hello world\n",
    "print(\"hello world\")"
   ]
  },
  {
   "cell_type": "code",
   "execution_count": 13,
   "metadata": {},
   "outputs": [
    {
     "name": "stdout",
     "output_type": "stream",
     "text": [
      "72 17 1 \n",
      " 1.125 1\n"
     ]
    }
   ],
   "source": [
    "#arithmetic operation add div sun mul\n",
    "a=9\n",
    "b=8\n",
    "c=a*b\n",
    "d=a+b\n",
    "e=a-b\n",
    "f=a/b\n",
    "g=a%b\n",
    "print(c ,d,e,\"\\n\",f,g )"
   ]
  },
  {
   "cell_type": "code",
   "execution_count": 5,
   "metadata": {},
   "outputs": [
    {
     "name": "stdout",
     "output_type": "stream",
     "text": [
      "56\n"
     ]
    }
   ],
   "source": [
    "n=int(input())\n",
    "m=int(input())\n",
    "print(n*m)"
   ]
  },
  {
   "cell_type": "code",
   "execution_count": 15,
   "metadata": {},
   "outputs": [
    {
     "name": "stdout",
     "output_type": "stream",
     "text": [
      "area of the rectangle 6\n",
      "perimeter of the rectangle 10\n"
     ]
    }
   ],
   "source": [
    "#find area of rectange\n",
    "l=int(input())\n",
    "b=int(input())\n",
    "c=l*b\n",
    "print(\"area of the rectangle\",c)\n",
    "d=2*(l+b)\n",
    "print(\"perimeter of the rectangle\",d)"
   ]
  },
  {
   "cell_type": "code",
   "execution_count": 22,
   "metadata": {},
   "outputs": [
    {
     "name": "stdout",
     "output_type": "stream",
     "text": [
      "7 8\n",
      "8\n",
      "7\n"
     ]
    }
   ],
   "source": [
    "#swap two numbers\n",
    "a=7\n",
    "b=8\n",
    "print(\"before\",a)\n",
    "temp=a\n",
    "a=b\n",
    "b=temp\n",
    "print(\"after\")\n",
    "print(a)\n",
    "print(b)\n"
   ]
  },
  {
   "cell_type": "code",
   "execution_count": 4,
   "metadata": {},
   "outputs": [
    {
     "name": "stdout",
     "output_type": "stream",
     "text": [
      "random number:53\n"
     ]
    }
   ],
   "source": [
    "import random\n",
    "print(f\"random number:{random.randint(1,100)}\")"
   ]
  },
  {
   "cell_type": "code",
   "execution_count": 11,
   "metadata": {},
   "outputs": [
    {
     "name": "stdout",
     "output_type": "stream",
     "text": [
      "89.0kilometers into 55.337085miles\n"
     ]
    }
   ],
   "source": [
    "km=float(input(\"entr nimner\"))\n",
    "con_factor=0.621765\n",
    "miles=km*con_factor\n",
    "print(f\"{km}kilometers into {miles}miles\")"
   ]
  },
  {
   "cell_type": "code",
   "execution_count": 13,
   "metadata": {},
   "outputs": [
    {
     "name": "stdout",
     "output_type": "stream",
     "text": [
      "37.0 celsiues convert into farenhiet98.6farenheit\n"
     ]
    }
   ],
   "source": [
    "#covert celcius to farenhiet\n",
    "cel=float(input())\n",
    "farenhiet=(cel*9/5)+32\n",
    "print(f\"{cel} celsiues convert into farenhiet{farenhiet}farenheit\")"
   ]
  },
  {
   "cell_type": "code",
   "execution_count": 20,
   "metadata": {},
   "outputs": [
    {
     "ename": "ModuleNotFoundError",
     "evalue": "No module named 'calender'",
     "output_type": "error",
     "traceback": [
      "\u001b[1;31m---------------------------------------------------------------------------\u001b[0m",
      "\u001b[1;31mModuleNotFoundError\u001b[0m                       Traceback (most recent call last)",
      "Cell \u001b[1;32mIn[20], line 1\u001b[0m\n\u001b[1;32m----> 1\u001b[0m \u001b[38;5;28;01mimport\u001b[39;00m\u001b[38;5;250m \u001b[39m\u001b[38;5;21;01mcalender\u001b[39;00m\n\u001b[0;32m      2\u001b[0m year\u001b[38;5;241m=\u001b[39m\u001b[38;5;28mint\u001b[39m(\u001b[38;5;28minput\u001b[39m(\u001b[38;5;124m\"\u001b[39m\u001b[38;5;124menter year\u001b[39m\u001b[38;5;124m\"\u001b[39m))\n\u001b[0;32m      3\u001b[0m month\u001b[38;5;241m=\u001b[39m\u001b[38;5;28mint\u001b[39m(\u001b[38;5;28minput\u001b[39m(\u001b[38;5;124m\"\u001b[39m\u001b[38;5;124menter month\u001b[39m\u001b[38;5;124m\"\u001b[39m))\n",
      "\u001b[1;31mModuleNotFoundError\u001b[0m: No module named 'calender'"
     ]
    }
   ],
   "source": [
    "import calender\n",
    "year=int(input(\"enter year\"))\n",
    "month=int(input(\"enter month\"))\n",
    "cal=calender.month(year,month)\n",
    "print(cal)"
   ]
  },
  {
   "cell_type": "code",
   "execution_count": 24,
   "metadata": {},
   "outputs": [
    {
     "name": "stdout",
     "output_type": "stream",
     "text": [
      "root1:-2.0+2.0i\n",
      "root2:-2.0+2.0i\n"
     ]
    }
   ],
   "source": [
    "import math\n",
    "a=1\n",
    "b=4\n",
    "c=8\n",
    "discrim =b**2-4*a*c\n",
    "if discrim >2:\n",
    "    root1= (-b+math.sqrt(discrim))/(2*a)\n",
    "    root2= (-b+math.sqrt(discrim))/(2*a)\n",
    "    print(f\"root 1:{root1}\")\n",
    "    print(f\"root2:{root2}\")\n",
    "elif discrim == 0:\n",
    "    root = -b/(2*a)\n",
    "    print(f\"root:{root}\")\n",
    "else:\n",
    "    real_part =-b/(2*a)\n",
    "    imaginary_part=math.sqrt(abs(discrim))/(2*a)\n",
    "    print(f\"root1:{real_part}+{imaginary_part}i\")\n",
    "    print(f\"root2:{real_part}+{imaginary_part}i\")\n",
    "\n"
   ]
  }
 ],
 "metadata": {
  "kernelspec": {
   "display_name": "Python 3",
   "language": "python",
   "name": "python3"
  },
  "language_info": {
   "codemirror_mode": {
    "name": "ipython",
    "version": 3
   },
   "file_extension": ".py",
   "mimetype": "text/x-python",
   "name": "python",
   "nbconvert_exporter": "python",
   "pygments_lexer": "ipython3",
   "version": "3.13.1"
  }
 },
 "nbformat": 4,
 "nbformat_minor": 2
}
