{
 "cells": [
  {
   "cell_type": "code",
   "execution_count": 33,
   "metadata": {},
   "outputs": [
    {
     "name": "stdout",
     "output_type": "stream",
     "text": [
      "15\n",
      "3953\n",
      "28\n",
      "32\n"
     ]
    }
   ],
   "source": [
    "#lamda expressions\n",
    "#it is an aninimous function\n",
    "#paremeter:expresion\n",
    "x=lambda a :a+10\n",
    "print(x(5))\n",
    "#it takes any no f arguments\n",
    "x =lambda a , b: a * b\n",
    "print(x(59,67))\n",
    "# use functions which can work with annonymous functions\n",
    "def fun(n):\n",
    "    return lambda a:a*n\n",
    "m=fun(3)\n",
    "m=fun(4)\n",
    "print(m(7))\n",
    "print(m(8))"
   ]
  },
  {
   "cell_type": "code",
   "execution_count": 39,
   "metadata": {},
   "outputs": [
    {
     "name": "stdout",
     "output_type": "stream",
     "text": [
      "[3, 4, 5, 6, 7, 8, 8]\n"
     ]
    }
   ],
   "source": [
    "# Example list\n",
    "example_list = [4, 5, 6, 7, 8, 9, 9]\n",
    "r = [(lambda x: x - 1) (x) for x in example_list]\n",
    "#r=[x-1 for x in example_list]\n",
    "#r=list(map(lambda x:x-1,example_list))\n",
    "\n",
    "# Print the resulting list\n",
    "print(r)"
   ]
  },
  {
   "cell_type": "code",
   "execution_count": 35,
   "metadata": {},
   "outputs": [
    {
     "name": "stdout",
     "output_type": "stream",
     "text": [
      "[('b', 19), ('a', 20), ('c', 25)]\n"
     ]
    }
   ],
   "source": [
    "#sorting using lamda\n",
    "x=[('a',20),('b',19),('c',25)]\n",
    "x.sort(key=lambda  x:x[1])\n",
    "print(x)"
   ]
  },
  {
   "cell_type": "code",
   "execution_count": 36,
   "metadata": {},
   "outputs": [
    {
     "name": "stdout",
     "output_type": "stream",
     "text": [
      "8\n"
     ]
    }
   ],
   "source": [
    "def sum(x,y):\n",
    "    return x+y\n",
    "#use lambda\n",
    "sum=lambda x,y:3+5\n",
    "print(sum(3,5))\n",
    "\n",
    "    "
   ]
  },
  {
   "cell_type": "code",
   "execution_count": 37,
   "metadata": {},
   "outputs": [
    {
     "ename": "TypeError",
     "evalue": "'list' object is not callable",
     "output_type": "error",
     "traceback": [
      "\u001b[1;31m---------------------------------------------------------------------------\u001b[0m",
      "\u001b[1;31mTypeError\u001b[0m                                 Traceback (most recent call last)",
      "Cell \u001b[1;32mIn[37], line 3\u001b[0m\n\u001b[0;32m      1\u001b[0m numbers\u001b[38;5;241m=\u001b[39m[\u001b[38;5;241m1\u001b[39m,\u001b[38;5;241m2\u001b[39m,\u001b[38;5;241m3\u001b[39m,\u001b[38;5;241m4\u001b[39m,\u001b[38;5;241m5\u001b[39m]\n\u001b[0;32m      2\u001b[0m result\u001b[38;5;241m=\u001b[39m\u001b[38;5;28mmap\u001b[39m(\u001b[38;5;28;01mlambda\u001b[39;00m x:x\u001b[38;5;241m*\u001b[39mx,numbers)\n\u001b[1;32m----> 3\u001b[0m \u001b[38;5;28mprint\u001b[39m(\u001b[38;5;28;43mlist\u001b[39;49m\u001b[43m(\u001b[49m\u001b[43mresult\u001b[49m\u001b[43m)\u001b[49m)\n",
      "\u001b[1;31mTypeError\u001b[0m: 'list' object is not callable"
     ]
    }
   ],
   "source": [
    "\n",
    "numbers=[1,2,3,4,5]\n",
    "result=map(lambda x:x*x,numbers)\n",
    "print(list(result))\n"
   ]
  },
  {
   "cell_type": "code",
   "execution_count": null,
   "metadata": {},
   "outputs": [],
   "source": [
    "# Original list\n",
    "lt = [4, 3, 6, 7, 0, 3, 9]\n",
    "\n",
    "r = list(filter(lambda p: p > 5, lt))\n",
    "r1 = list(map(lambda x: x -1, lt))\n",
    "\n",
    "\n",
    "# Print the resulting list\n",
    "print(r)\n",
    "print(r1)\n"
   ]
  },
  {
   "cell_type": "code",
   "execution_count": null,
   "metadata": {},
   "outputs": [],
   "source": [
    "# Define a regular function\n",
    "def sum(x, y):\n",
    "    return x + y\n",
    "\n",
    "# Use a lambda function to call the regular function\n",
    "s = lambda x, y: sum(x, y)\n",
    "\n",
    "# Test the lambda function\n",
    "result = s(3, 5)\n",
    "print(result)  # Output: 8"
   ]
  },
  {
   "cell_type": "code",
   "execution_count": null,
   "metadata": {},
   "outputs": [],
   "source": [
    "li=[77,90,57,64,80,95]\n",
    "t=list(filter(lambda x : x % 2 == 0 ,li ))\n",
    "print(t)"
   ]
  }
 ],
 "metadata": {
  "kernelspec": {
   "display_name": "Python 3",
   "language": "python",
   "name": "python3"
  },
  "language_info": {
   "codemirror_mode": {
    "name": "ipython",
    "version": 3
   },
   "file_extension": ".py",
   "mimetype": "text/x-python",
   "name": "python",
   "nbconvert_exporter": "python",
   "pygments_lexer": "ipython3",
   "version": "3.13.1"
  }
 },
 "nbformat": 4,
 "nbformat_minor": 2
}
