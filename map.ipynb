{
 "cells": [
  {
   "cell_type": "code",
   "execution_count": null,
   "metadata": {},
   "outputs": [
    {
     "ename": "",
     "evalue": "",
     "output_type": "error",
     "traceback": [
      "\u001b[1;31mRunning cells with 'Python 3.11.4' requires the ipykernel package.\n",
      "\u001b[1;31mRun the following command to install 'ipykernel' into the Python environment. \n",
      "\u001b[1;31mCommand: 'c:/Users/msmah/AppData/Local/Programs/Python/Python311/python.exe -m pip install ipykernel -U --user --force-reinstall'"
     ]
    }
   ],
   "source": [
    " #  original_grid = [list(map(int, input().split())) for _ in range(4)] (or)\n",
    "original_grid = []\n",
    "print(\"Enter the original grid (4 rows of 4 integers each):\")\n",
    "for i in range(4):\n",
    "    row = list(map(int, input().split()))\n",
    "\n",
    "    original_grid.append(row)\n",
    "print(original_grid )\n"
   ]
  },
  {
   "cell_type": "code",
   "execution_count": null,
   "metadata": {},
   "outputs": [
    {
     "ename": "",
     "evalue": "",
     "output_type": "error",
     "traceback": [
      "\u001b[1;31mRunning cells with 'Python 3.11.4' requires the ipykernel package.\n",
      "\u001b[1;31mRun the following command to install 'ipykernel' into the Python environment. \n",
      "\u001b[1;31mCommand: 'c:/Users/msmah/AppData/Local/Programs/Python/Python311/python.exe -m pip install ipykernel -U --user --force-reinstall'"
     ]
    }
   ],
   "source": [
    "# Example list\n",
    "example_list = list(set([4, 5, 6, 7, 8, 9, 9]))\n",
    "\n",
    "# Read input from the user and convert it to a list of integers\n",
    "r = list(map(int,example_list))\n",
    "\n",
    "# Print the resulting list\n",
    "print(r)"
   ]
  },
  {
   "cell_type": "code",
   "execution_count": null,
   "metadata": {},
   "outputs": [
    {
     "ename": "",
     "evalue": "",
     "output_type": "error",
     "traceback": [
      "\u001b[1;31mRunning cells with 'Python 3.11.4' requires the ipykernel package.\n",
      "\u001b[1;31mRun the following command to install 'ipykernel' into the Python environment. \n",
      "\u001b[1;31mCommand: 'c:/Users/msmah/AppData/Local/Programs/Python/Python311/python.exe -m pip install ipykernel -U --user --force-reinstall'"
     ]
    }
   ],
   "source": [
    "\n",
    "example_list = [4, 5, 6, 7, 8, 9, 9]\n",
    "# Use lambda and map to subtract 1 from each element in the list\n",
    "r = list(map(lambda x: x - 1, example_list))\n",
    "#r = [(lambda x: x - 1) (x) for x in example_list]\n",
    "print(r)\n",
    "#other type\n",
    "#r = [x-1 for x in example_list]\n",
    "#print(r)"
   ]
  },
  {
   "cell_type": "code",
   "execution_count": null,
   "metadata": {},
   "outputs": [
    {
     "ename": "",
     "evalue": "",
     "output_type": "error",
     "traceback": [
      "\u001b[1;31mRunning cells with 'Python 3.11.4' requires the ipykernel package.\n",
      "\u001b[1;31mRun the following command to install 'ipykernel' into the Python environment. \n",
      "\u001b[1;31mCommand: 'c:/Users/msmah/AppData/Local/Programs/Python/Python311/python.exe -m pip install ipykernel -U --user --force-reinstall'"
     ]
    }
   ],
   "source": [
    "lt = [4, 5, 6, 7, 8, 9, 9]\n",
    "def lit(x):\n",
    "    return x - 1\n",
    "r = list(map(lit, lt))\n",
    "print(r)"
   ]
  },
  {
   "cell_type": "code",
   "execution_count": null,
   "metadata": {},
   "outputs": [
    {
     "ename": "",
     "evalue": "",
     "output_type": "error",
     "traceback": [
      "\u001b[1;31mRunning cells with 'Python 3.11.4' requires the ipykernel package.\n",
      "\u001b[1;31mRun the following command to install 'ipykernel' into the Python environment. \n",
      "\u001b[1;31mCommand: 'c:/Users/msmah/AppData/Local/Programs/Python/Python311/python.exe -m pip install ipykernel -U --user --force-reinstall'"
     ]
    }
   ],
   "source": [
    " #number -1 print\n",
    "#lst=[5,6,7,8,8,9,9,]\n",
    "#for x in lst:\n",
    " #   r=x-1\n",
    "  #  print(r,end=\" \")\n",
    "lt = [4, 5, 6, 7, 8, 9, 9]\n",
    "\n",
    "def lit(x):\n",
    "    return x - 1\n",
    "r = list(map(lit, lt))\n",
    "print(r)\n",
    "\n",
    "\n",
    "\n",
    "#no=[4,5, 6,7,6, 7, 8]\n",
    "#r=[x-1 for x in lst]\n",
    "#print(r)"
   ]
  },
  {
   "cell_type": "code",
   "execution_count": null,
   "metadata": {},
   "outputs": [],
   "source": [
    "#map\n",
    "marks=[77,97,57,64,85,95]\n",
    "def grade(marks):\n",
    "    if marks >=90:\n",
    "        return 'a'\n",
    "    elif 80<= marks < 90:\n",
    "        return 'b'\n",
    "    elif 70<= marks < 80:\n",
    "        return 'c'\n",
    "    elif 60<= marks < 70:\n",
    "        return 'd'\n",
    "    else:\n",
    "        return 'e'\n",
    "t= map(grade,marks)\n",
    "#t= list(map(grade,marks)) if we add list here no ned to add in print palce\n",
    "print(marks)\n",
    "print(next(t))\n",
    "print(next(t))\n",
    "print(list(t))\n",
    "\n",
    "    "
   ]
  },
  {
   "cell_type": "code",
   "execution_count": null,
   "metadata": {},
   "outputs": [],
   "source": [
    "#filter\n",
    "marks=[77,97,57,64,35,95] \n",
    "def fail(mark):\n",
    "    return mark<60\n",
    "t=list(filter(fail,marks))\n",
    "print(t)\n",
    "\n"
   ]
  },
  {
   "cell_type": "code",
   "execution_count": null,
   "metadata": {},
   "outputs": [],
   "source": [
    "#sort"
   ]
  }
 ],
 "metadata": {
  "kernelspec": {
   "display_name": "Python 3",
   "language": "python",
   "name": "python3"
  },
  "language_info": {
   "codemirror_mode": {
    "name": "ipython",
    "version": 3
   },
   "file_extension": ".py",
   "mimetype": "text/x-python",
   "name": "python",
   "nbconvert_exporter": "python",
   "pygments_lexer": "ipython3",
   "version": "3.11.4"
  }
 },
 "nbformat": 4,
 "nbformat_minor": 2
}
