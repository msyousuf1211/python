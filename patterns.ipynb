{
 "cells": [
  {
   "cell_type": "code",
   "execution_count": 1,
   "metadata": {},
   "outputs": [
    {
     "name": "stdout",
     "output_type": "stream",
     "text": [
      "* * * * * "
     ]
    }
   ],
   "source": [
    "n=int(input(\"enter number\"))\n",
    "for i in range (n):\n",
    "    print(\"*\" ,end=\" \")"
   ]
  },
  {
   "cell_type": "code",
   "execution_count": null,
   "metadata": {},
   "outputs": [
    {
     "name": "stdout",
     "output_type": "stream",
     "text": [
      "* * * * * * * * * * * * * * * * * * * * * * * * * "
     ]
    }
   ],
   "source": [
    "n=int(input(\"enter number\"))# n=5\n",
    "for i in range (n):\n",
    "    for j in range (n):\n",
    "        print(\"*\" ,end=\" \")\n",
    "    "
   ]
  },
  {
   "cell_type": "code",
   "execution_count": 5,
   "metadata": {},
   "outputs": [
    {
     "name": "stdout",
     "output_type": "stream",
     "text": [
      "* * * * * \n",
      "* * * * * \n",
      "* * * * * \n",
      "* * * * * \n",
      "* * * * * \n"
     ]
    }
   ],
   "source": [
    "n=int(input(\"enter number\"))\n",
    "for i in range (n):\n",
    "    for j in range (n):\n",
    "        print(\"*\" ,end=\" \")\n",
    "    print()"
   ]
  },
  {
   "cell_type": "code",
   "execution_count": 101,
   "metadata": {},
   "outputs": [
    {
     "name": "stdout",
     "output_type": "stream",
     "text": [
      "\n",
      "0 \n",
      "0 1 \n",
      "0 1 2 \n",
      "0 1 2 3 \n",
      "0 1 2 3 4 \n"
     ]
    }
   ],
   "source": [
    "n=6\n",
    "for i in range (n):\n",
    "\n",
    "    for j in range (i):\n",
    "        print( j,end=\" \")\n",
    "    print()"
   ]
  },
  {
   "cell_type": "code",
   "execution_count": 28,
   "metadata": {},
   "outputs": [
    {
     "name": "stdout",
     "output_type": "stream",
     "text": [
      "0 \n",
      "1 1 \n",
      "2 2 2 \n",
      "3 3 3 3 \n",
      "4 4 4 4 4 \n",
      "0 \n",
      "0 1 \n",
      "0 1 2 \n",
      "0 1 2 3 \n",
      "0 1 2 3 4 \n"
     ]
    }
   ],
   "source": [
    "n=5\n",
    "for i in range (n):\n",
    "\n",
    "    for j in range (i+1):\n",
    "        print(i ,end=\" \")\n",
    "    print()\n",
    "m=5\n",
    "for k in range (m):\n",
    "    for l in range (k+1):\n",
    "        print(l,end=\" \")\n",
    "    print()"
   ]
  },
  {
   "cell_type": "code",
   "execution_count": 102,
   "metadata": {},
   "outputs": [
    {
     "name": "stdout",
     "output_type": "stream",
     "text": [
      "0 0 0 0 0 0 0 \n",
      "1 1 1 1 1 1 \n",
      "2 2 2 2 2 \n",
      "3 3 3 3 \n",
      "4 4 4 \n",
      "5 5 \n",
      "6 \n"
     ]
    }
   ],
   "source": [
    "n=7\n",
    "for i in range (n):\n",
    "    for j in range (i,n):\n",
    "        print(i ,end=\" \")\n",
    "    print()"
   ]
  },
  {
   "cell_type": "code",
   "execution_count": 78,
   "metadata": {},
   "outputs": [
    {
     "name": "stdout",
     "output_type": "stream",
     "text": [
      "              * \n",
      "            * * \n",
      "          * * * \n",
      "        * * * * \n",
      "      * * * * * \n",
      "    * * * * * * \n",
      "  * * * * * * * \n"
     ]
    }
   ],
   "source": [
    "n=7\n",
    "for i in range (n):\n",
    "    for j in range (i,n):\n",
    "        print(' ' ,end=' ')\n",
    "    for j in range (i+1):\n",
    "        print(\"*\",end=' ')\n",
    "    print()"
   ]
  },
  {
   "cell_type": "code",
   "execution_count": 59,
   "metadata": {},
   "outputs": [
    {
     "name": "stdout",
     "output_type": "stream",
     "text": [
      "& * * * * * * \n",
      "& & * * * * * \n",
      "& & & * * * * \n",
      "& & & & * * * \n",
      "& & & & & * * \n",
      "& & & & & & * \n"
     ]
    }
   ],
   "source": [
    "n=6\n",
    "for i in range (n):\n",
    "    for j in range (i+1):\n",
    "        print('&',end=' ')\n",
    "    for j in range (i,n ):\n",
    "        print(\"*\",end=' ')\n",
    "    print( )\n"
   ]
  },
  {
   "cell_type": "code",
   "execution_count": null,
   "metadata": {},
   "outputs": [
    {
     "name": "stdout",
     "output_type": "stream",
     "text": [
      "  * * * * * * \n",
      "    * * * * * \n",
      "      * * * * \n",
      "        * * * \n",
      "          * * \n",
      "            * \n"
     ]
    }
   ],
   "source": [
    "n=6\n",
    "for i in range (n):\n",
    "    for j in range (i+1):\n",
    "        print(' ',end=' ')\n",
    "    for j in range (i,n ):\n",
    "        print(\"*\",end=' ')\n",
    "    print( )\n"
   ]
  },
  {
   "cell_type": "code",
   "execution_count": 86,
   "metadata": {},
   "outputs": [
    {
     "name": "stdout",
     "output_type": "stream",
     "text": [
      "              * \n",
      "            * * * \n",
      "          * * * * * \n",
      "        * * * * * * * \n",
      "      * * * * * * * * * \n",
      "    * * * * * * * * * * * \n",
      "  * * * * * * * * * * * * * \n"
     ]
    }
   ],
   "source": [
    "n=7\n",
    "for i in range (n):\n",
    "    for j in range (i,n):\n",
    "        print(' ' ,end=' ')\n",
    "    for j in range (i+1):\n",
    "        print(\"*\",end=' ')\n",
    "    for j in range (i):\n",
    "        print('*',end=' ')\n",
    "   \n",
    "    print( )"
   ]
  },
  {
   "cell_type": "code",
   "execution_count": 94,
   "metadata": {},
   "outputs": [
    {
     "name": "stdout",
     "output_type": "stream",
     "text": [
      "  * * * * * * * * * * * \n",
      "    * * * * * * * * * \n",
      "      * * * * * * * \n",
      "        * * * * * \n",
      "          * * * \n",
      "            * \n"
     ]
    }
   ],
   "source": [
    "n=6\n",
    "for i in range (n):\n",
    "    for j in range (i+1):\n",
    "        print(' ',end=' ')\n",
    "    for j in range (i,n-1):\n",
    "        print(\"*\",end=' ')\n",
    "    for j in range (i,n):\n",
    "        print(\"*\" ,end=\" \")\n",
    "    print()\n",
    "        \n"
   ]
  },
  {
   "cell_type": "code",
   "execution_count": 97,
   "metadata": {},
   "outputs": [
    {
     "name": "stdout",
     "output_type": "stream",
     "text": [
      "              * \n",
      "            * * * \n",
      "          * * * * * \n",
      "        * * * * * * * \n",
      "      * * * * * * * * * \n",
      "    * * * * * * * * * * * \n",
      "  * * * * * * * * * * * * * \n",
      "    * * * * * * * * * * * \n",
      "      * * * * * * * * * \n",
      "        * * * * * * * \n",
      "          * * * * * \n",
      "            * * * \n",
      "              * \n"
     ]
    }
   ],
   "source": [
    "n=7\n",
    "for i in range (n-1):\n",
    "    for j in range (i,n):\n",
    "        print(' ' ,end=' ')\n",
    "    for j in range (i+1):\n",
    "        print(\"*\",end=' ')\n",
    "    for j in range (i):\n",
    "        print('*',end=' ')\n",
    "   \n",
    "    print( )\n",
    "n=7\n",
    "for i in range (n):\n",
    "    for j in range (i+1):\n",
    "        print(' ',end=' ')\n",
    "    for j in range (i,n-1):\n",
    "        print(\"*\",end=' ')\n",
    "    for j in range (i,n):\n",
    "        print(\"*\" ,end=\" \")\n",
    "    print()\n",
    "        \n"
   ]
  }
 ],
 "metadata": {
  "kernelspec": {
   "display_name": "Python 3",
   "language": "python",
   "name": "python3"
  },
  "language_info": {
   "codemirror_mode": {
    "name": "ipython",
    "version": 3
   },
   "file_extension": ".py",
   "mimetype": "text/x-python",
   "name": "python",
   "nbconvert_exporter": "python",
   "pygments_lexer": "ipython3",
   "version": "3.13.1"
  }
 },
 "nbformat": 4,
 "nbformat_minor": 2
}
