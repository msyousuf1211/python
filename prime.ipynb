{
 "cells": [
  {
   "cell_type": "code",
   "execution_count": null,
   "metadata": {},
   "outputs": [
    {
     "name": "stdout",
     "output_type": "stream",
     "text": [
      "2 3 5 7 11 13 17 19 \n"
     ]
    }
   ],
   "source": [
    "#prime numbers from 1 to n\n",
    "#without using function\n",
    "n = int(input(\"Enter the number: \"))\n",
    "for i in range(2,n+1):\n",
    "    for j in range(2,i):#\n",
    "        if i%j == 0# here i=2 .j=2  it is emty  so it goes to else (2%2) \n",
    "            break\n",
    "    else:\n",
    "        print(i,end=\" \")    \n",
    "print()\n",
    "\n",
    "\n"
   ]
  },
  {
   "cell_type": "code",
   "execution_count": null,
   "metadata": {},
   "outputs": [
    {
     "name": "stdout",
     "output_type": "stream",
     "text": [
      "17\n",
      "\n"
     ]
    }
   ],
   "source": [
    "# for sum of prime from 1 to n\n",
    "n = int(input(\"Enter the number: \"))\n",
    "sum = 0\n",
    "for i in range(2,n+1):\n",
    "    for j in range(2,i):\n",
    "        if i%j == 0:\n",
    "            break\n",
    "    else:\n",
    "        sum += i#o+2,\n",
    "print(sum)\n",
    "\n"
   ]
  }
 ],
 "metadata": {
  "kernelspec": {
   "display_name": "Python 3",
   "language": "python",
   "name": "python3"
  },
  "language_info": {
   "codemirror_mode": {
    "name": "ipython",
    "version": 3
   },
   "file_extension": ".py",
   "mimetype": "text/x-python",
   "name": "python",
   "nbconvert_exporter": "python",
   "pygments_lexer": "ipython3",
   "version": "3.11.4"
  }
 },
 "nbformat": 4,
 "nbformat_minor": 2
}
